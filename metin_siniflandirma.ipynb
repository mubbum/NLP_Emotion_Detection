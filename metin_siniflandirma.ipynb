{
 "cells": [
  {
   "attachments": {},
   "cell_type": "markdown",
   "id": "7e337d07-6dc5-41a1-939b-0903423097df",
   "metadata": {},
   "source": [
    "## Metin Sınıflandırma"
   ]
  },
  {
   "cell_type": "code",
   "execution_count": 2,
   "id": "87e84c38-be06-49cc-9098-7016ce500f79",
   "metadata": {},
   "outputs": [],
   "source": [
    "import pandas as pd\n",
    "import nlp_Melih_Utku_BALA"
   ]
  },
  {
   "cell_type": "code",
   "execution_count": 3,
   "id": "2455e932-486c-4389-b508-ab63687cc61a",
   "metadata": {},
   "outputs": [
    {
     "data": {
      "text/html": [
       "<div>\n",
       "<style scoped>\n",
       "    .dataframe tbody tr th:only-of-type {\n",
       "        vertical-align: middle;\n",
       "    }\n",
       "\n",
       "    .dataframe tbody tr th {\n",
       "        vertical-align: top;\n",
       "    }\n",
       "\n",
       "    .dataframe thead th {\n",
       "        text-align: right;\n",
       "    }\n",
       "</style>\n",
       "<table border=\"1\" class=\"dataframe\">\n",
       "  <thead>\n",
       "    <tr style=\"text-align: right;\">\n",
       "      <th></th>\n",
       "      <th>Text</th>\n",
       "      <th>Label</th>\n",
       "      <th>Text_2</th>\n",
       "      <th>Text_3</th>\n",
       "    </tr>\n",
       "  </thead>\n",
       "  <tbody>\n",
       "    <tr>\n",
       "      <th>0</th>\n",
       "      <td>Allah'ım çıldıracağım. Yemin ederim çıldıracağ...</td>\n",
       "      <td>kızgın</td>\n",
       "      <td>[allah, çıldıracağım, ye, eder, çıldıracak, si...</td>\n",
       "      <td>allah çıldıracağım ye eder çıldıracak sinirimd...</td>\n",
       "    </tr>\n",
       "    <tr>\n",
       "      <th>1</th>\n",
       "      <td>site ne zaman çalıştıda ürün stokları bitti di...</td>\n",
       "      <td>kızgın</td>\n",
       "      <td>[si, zama, çalıştı, ür, stok, bit, diyor, mal,...</td>\n",
       "      <td>si zama çalıştı ür stok bit diyor mal oğl kand...</td>\n",
       "    </tr>\n",
       "    <tr>\n",
       "      <th>2</th>\n",
       "      <td>Sebebi neydi ki diye bağıracağım şimdi az kaldı</td>\n",
       "      <td>kızgın</td>\n",
       "      <td>[sebep, di, bağıracak, kal]</td>\n",
       "      <td>sebep di bağıracak kal</td>\n",
       "    </tr>\n",
       "    <tr>\n",
       "      <th>3</th>\n",
       "      <td>Black friday ne amk bu yıl çıkardınız bu bokud...</td>\n",
       "      <td>kızgın</td>\n",
       "      <td>[black, friday, amk, yıl, çıkar, boku, mal, ne...</td>\n",
       "      <td>black friday amk yıl çıkar boku mal nesiniz</td>\n",
       "    </tr>\n",
       "    <tr>\n",
       "      <th>4</th>\n",
       "      <td>kısa kısa cevaplar vericeksen niye yazıyorsun ...</td>\n",
       "      <td>kızgın</td>\n",
       "      <td>[kıs, kıs, cevap, vericek, ni, yazıyor, gerize...</td>\n",
       "      <td>kıs kıs cevap vericek ni yazıyor gerizekal</td>\n",
       "    </tr>\n",
       "  </tbody>\n",
       "</table>\n",
       "</div>"
      ],
      "text/plain": [
       "                                                Text   Label   \n",
       "0  Allah'ım çıldıracağım. Yemin ederim çıldıracağ...  kızgın  \\\n",
       "1  site ne zaman çalıştıda ürün stokları bitti di...  kızgın   \n",
       "2    Sebebi neydi ki diye bağıracağım şimdi az kaldı  kızgın   \n",
       "3  Black friday ne amk bu yıl çıkardınız bu bokud...  kızgın   \n",
       "4  kısa kısa cevaplar vericeksen niye yazıyorsun ...  kızgın   \n",
       "\n",
       "                                              Text_2   \n",
       "0  [allah, çıldıracağım, ye, eder, çıldıracak, si...  \\\n",
       "1  [si, zama, çalıştı, ür, stok, bit, diyor, mal,...   \n",
       "2                        [sebep, di, bağıracak, kal]   \n",
       "3  [black, friday, amk, yıl, çıkar, boku, mal, ne...   \n",
       "4  [kıs, kıs, cevap, vericek, ni, yazıyor, gerize...   \n",
       "\n",
       "                                              Text_3  \n",
       "0  allah çıldıracağım ye eder çıldıracak sinirimd...  \n",
       "1  si zama çalıştı ür stok bit diyor mal oğl kand...  \n",
       "2                             sebep di bağıracak kal  \n",
       "3        black friday amk yıl çıkar boku mal nesiniz  \n",
       "4         kıs kıs cevap vericek ni yazıyor gerizekal  "
      ]
     },
     "execution_count": 3,
     "metadata": {},
     "output_type": "execute_result"
    }
   ],
   "source": [
    "df = pd.read_csv(\"data/metin_siniflandirma.csv\",index_col=0)\n",
    "df[\"Text_2\"] = df[\"Text\"].apply(nlp_Melih_Utku_BALA.pre_processing)\n",
    "df[\"Text_2\"] = df[\"Text_2\"].apply(nlp_Melih_Utku_BALA.remove_space)\n",
    "df[\"Text_3\"] = [' '.join(wrd for wrd in x) for x in df[\"Text_2\"]]\n",
    "\n",
    "df_index = df[df[\"Text_2\"].str[0].isnull()].index\n",
    "df = df.drop(df_index)\n",
    "df = df.reset_index()\n",
    "del df[\"index\"]\n",
    "df.head()"
   ]
  },
  {
   "cell_type": "code",
   "execution_count": 4,
   "id": "6e5bd4b0-6bfd-44f9-b1be-63ec7cdc55cc",
   "metadata": {},
   "outputs": [
    {
     "data": {
      "text/plain": [
       "Label\n",
       "korku      800\n",
       "kızgın     799\n",
       "mutlu      800\n",
       "surpriz    800\n",
       "üzgün      799\n",
       "dtype: int64"
      ]
     },
     "execution_count": 4,
     "metadata": {},
     "output_type": "execute_result"
    }
   ],
   "source": [
    "df.groupby(\"Label\").size()"
   ]
  },
  {
   "cell_type": "code",
   "execution_count": 5,
   "id": "4b12a603",
   "metadata": {},
   "outputs": [],
   "source": [
    "from sklearn.model_selection import train_test_split"
   ]
  },
  {
   "cell_type": "code",
   "execution_count": 6,
   "id": "4ad35806",
   "metadata": {},
   "outputs": [],
   "source": [
    "msg_train,msg_test,label_train,label_test = train_test_split(df[\"Text_3\"].tolist(),df[\"Label\"].tolist(),test_size=0.2,random_state=42)"
   ]
  },
  {
   "cell_type": "code",
   "execution_count": 7,
   "id": "b0d5715b",
   "metadata": {},
   "outputs": [
    {
     "name": "stdout",
     "output_type": "stream",
     "text": [
      "3198 800 3198\n"
     ]
    }
   ],
   "source": [
    "print(len(msg_train),len(msg_test),len(label_train))"
   ]
  },
  {
   "cell_type": "code",
   "execution_count": 8,
   "id": "03bc93d8",
   "metadata": {},
   "outputs": [
    {
     "data": {
      "text/plain": [
       "label\n",
       "korku      164\n",
       "kızgın     169\n",
       "mutlu      160\n",
       "surpriz    155\n",
       "üzgün      152\n",
       "dtype: int64"
      ]
     },
     "execution_count": 8,
     "metadata": {},
     "output_type": "execute_result"
    }
   ],
   "source": [
    "df_test = pd.DataFrame({\"text\":msg_test,\"label\":label_test})\n",
    "df_test.groupby(\"label\").size()"
   ]
  },
  {
   "cell_type": "code",
   "execution_count": 9,
   "id": "15d32538",
   "metadata": {},
   "outputs": [],
   "source": [
    "from sklearn.svm import LinearSVC\n",
    "from sklearn.pipeline import Pipeline\n",
    "from sklearn.feature_extraction.text import TfidfVectorizer"
   ]
  },
  {
   "cell_type": "code",
   "execution_count": 10,
   "id": "448c7e76",
   "metadata": {},
   "outputs": [],
   "source": [
    "svm = Pipeline([(\"vect\",TfidfVectorizer()),(\"svm\",LinearSVC())])"
   ]
  },
  {
   "cell_type": "code",
   "execution_count": 12,
   "id": "e718bf14",
   "metadata": {},
   "outputs": [],
   "source": [
    "svm.fit(msg_train,label_train)\n",
    "y_pred_class = svm.predict(msg_test)"
   ]
  },
  {
   "cell_type": "code",
   "execution_count": 21,
   "id": "520adcfc",
   "metadata": {},
   "outputs": [],
   "source": [
    "from sklearn.metrics import f1_score,accuracy_score,confusion_matrix,ConfusionMatrixDisplay"
   ]
  },
  {
   "cell_type": "code",
   "execution_count": 22,
   "id": "8e17711f",
   "metadata": {},
   "outputs": [
    {
     "name": "stdout",
     "output_type": "stream",
     "text": [
      "svm accuary score : 0.98\n"
     ]
    }
   ],
   "source": [
    "print(\"svm accuary score :\", accuracy_score(label_test,y_pred_class))"
   ]
  },
  {
   "cell_type": "code",
   "execution_count": 23,
   "id": "9bc3b1e5",
   "metadata": {},
   "outputs": [
    {
     "name": "stdout",
     "output_type": "stream",
     "text": [
      "svm f1 score : 0.9800012002533918\n"
     ]
    }
   ],
   "source": [
    "print(\"svm f1 score :\", f1_score(label_test,y_pred_class,average=\"weighted\"))"
   ]
  },
  {
   "cell_type": "code",
   "execution_count": 24,
   "id": "362f562f",
   "metadata": {},
   "outputs": [
    {
     "data": {
      "text/plain": [
       "800"
      ]
     },
     "execution_count": 24,
     "metadata": {},
     "output_type": "execute_result"
    }
   ],
   "source": [
    "len(label_test)"
   ]
  },
  {
   "cell_type": "code",
   "execution_count": 25,
   "id": "3d1cffd7",
   "metadata": {},
   "outputs": [
    {
     "data": {
      "text/plain": [
       "784.0"
      ]
     },
     "execution_count": 25,
     "metadata": {},
     "output_type": "execute_result"
    }
   ],
   "source": [
    "800*0.98"
   ]
  },
  {
   "cell_type": "code",
   "execution_count": 27,
   "id": "f6002f14",
   "metadata": {},
   "outputs": [
    {
     "data": {
      "text/plain": [
       "<sklearn.metrics._plot.confusion_matrix.ConfusionMatrixDisplay at 0x195c1b9dd20>"
      ]
     },
     "execution_count": 27,
     "metadata": {},
     "output_type": "execute_result"
    },
    {
     "data": {
      "image/png": "[encoded data removed]",
      "text/plain": [
       "<Figure size 640x480 with 2 Axes>"
      ]
     },
     "metadata": {},
     "output_type": "display_data"
    }
   ],
   "source": [
    "cm = confusion_matrix(label_test,y_pred_class,labels=svm.classes_)\n",
    "disp = ConfusionMatrixDisplay(confusion_matrix=cm,display_labels=svm.classes_)\n",
    "disp.plot()"
   ]
  },
  {
   "cell_type": "code",
   "execution_count": 35,
   "id": "f2851350",
   "metadata": {},
   "outputs": [],
   "source": [
    "from gensim.models import Word2Vec"
   ]
  },
  {
   "cell_type": "code",
   "execution_count": 36,
   "id": "9a55040c",
   "metadata": {},
   "outputs": [],
   "source": [
    "model = Word2Vec.load(\"data/word2vec.model\")\n",
    "model.build_vocab(df[\"Text_2\"].tolist(),update=True)\n",
    "model.save(\"data/word2vec.model\")"
   ]
  },
  {
   "cell_type": "code",
   "execution_count": 34,
   "id": "f5512aeb",
   "metadata": {},
   "outputs": [],
   "source": [
    "df[\"word2vec\"] = df[\"Text_2\"].apply(nlp_Melih_Utku_BALA.word2vec)"
   ]
  },
  {
   "cell_type": "code",
   "execution_count": 37,
   "id": "31ee6962",
   "metadata": {},
   "outputs": [
    {
     "data": {
      "text/html": [
       "<div>\n",
       "<style scoped>\n",
       "    .dataframe tbody tr th:only-of-type {\n",
       "        vertical-align: middle;\n",
       "    }\n",
       "\n",
       "    .dataframe tbody tr th {\n",
       "        vertical-align: top;\n",
       "    }\n",
       "\n",
       "    .dataframe thead th {\n",
       "        text-align: right;\n",
       "    }\n",
       "</style>\n",
       "<table border=\"1\" class=\"dataframe\">\n",
       "  <thead>\n",
       "    <tr style=\"text-align: right;\">\n",
       "      <th></th>\n",
       "      <th>Text</th>\n",
       "      <th>Label</th>\n",
       "      <th>Text_2</th>\n",
       "      <th>Text_3</th>\n",
       "      <th>word2vec</th>\n",
       "    </tr>\n",
       "  </thead>\n",
       "  <tbody>\n",
       "    <tr>\n",
       "      <th>0</th>\n",
       "      <td>Allah'ım çıldıracağım. Yemin ederim çıldıracağ...</td>\n",
       "      <td>kızgın</td>\n",
       "      <td>[allah, çıldıracağım, ye, eder, çıldıracak, si...</td>\n",
       "      <td>allah çıldıracağım ye eder çıldıracak sinirimd...</td>\n",
       "      <td>[-0.003981809131801128, 0.017307482659816742, ...</td>\n",
       "    </tr>\n",
       "    <tr>\n",
       "      <th>1</th>\n",
       "      <td>site ne zaman çalıştıda ürün stokları bitti di...</td>\n",
       "      <td>kızgın</td>\n",
       "      <td>[si, zama, çalıştı, ür, stok, bit, diyor, mal,...</td>\n",
       "      <td>si zama çalıştı ür stok bit diyor mal oğl kand...</td>\n",
       "      <td>[-0.0035983086563646793, 0.009379255585372448,...</td>\n",
       "    </tr>\n",
       "    <tr>\n",
       "      <th>2</th>\n",
       "      <td>Sebebi neydi ki diye bağıracağım şimdi az kaldı</td>\n",
       "      <td>kızgın</td>\n",
       "      <td>[sebep, di, bağıracak, kal]</td>\n",
       "      <td>sebep di bağıracak kal</td>\n",
       "      <td>[-0.008350715972483158, 0.010193136520683765, ...</td>\n",
       "    </tr>\n",
       "    <tr>\n",
       "      <th>3</th>\n",
       "      <td>Black friday ne amk bu yıl çıkardınız bu bokud...</td>\n",
       "      <td>kızgın</td>\n",
       "      <td>[black, friday, amk, yıl, çıkar, boku, mal, ne...</td>\n",
       "      <td>black friday amk yıl çıkar boku mal nesiniz</td>\n",
       "      <td>[-0.0008934943471103907, 0.008480808697640896,...</td>\n",
       "    </tr>\n",
       "    <tr>\n",
       "      <th>4</th>\n",
       "      <td>kısa kısa cevaplar vericeksen niye yazıyorsun ...</td>\n",
       "      <td>kızgın</td>\n",
       "      <td>[kıs, kıs, cevap, vericek, ni, yazıyor, gerize...</td>\n",
       "      <td>kıs kıs cevap vericek ni yazıyor gerizekal</td>\n",
       "      <td>[-0.008955701254308224, 0.012521868571639061, ...</td>\n",
       "    </tr>\n",
       "  </tbody>\n",
       "</table>\n",
       "</div>"
      ],
      "text/plain": [
       "                                                Text   Label   \n",
       "0  Allah'ım çıldıracağım. Yemin ederim çıldıracağ...  kızgın  \\\n",
       "1  site ne zaman çalıştıda ürün stokları bitti di...  kızgın   \n",
       "2    Sebebi neydi ki diye bağıracağım şimdi az kaldı  kızgın   \n",
       "3  Black friday ne amk bu yıl çıkardınız bu bokud...  kızgın   \n",
       "4  kısa kısa cevaplar vericeksen niye yazıyorsun ...  kızgın   \n",
       "\n",
       "                                              Text_2   \n",
       "0  [allah, çıldıracağım, ye, eder, çıldıracak, si...  \\\n",
       "1  [si, zama, çalıştı, ür, stok, bit, diyor, mal,...   \n",
       "2                        [sebep, di, bağıracak, kal]   \n",
       "3  [black, friday, amk, yıl, çıkar, boku, mal, ne...   \n",
       "4  [kıs, kıs, cevap, vericek, ni, yazıyor, gerize...   \n",
       "\n",
       "                                              Text_3   \n",
       "0  allah çıldıracağım ye eder çıldıracak sinirimd...  \\\n",
       "1  si zama çalıştı ür stok bit diyor mal oğl kand...   \n",
       "2                             sebep di bağıracak kal   \n",
       "3        black friday amk yıl çıkar boku mal nesiniz   \n",
       "4         kıs kıs cevap vericek ni yazıyor gerizekal   \n",
       "\n",
       "                                            word2vec  \n",
       "0  [-0.003981809131801128, 0.017307482659816742, ...  \n",
       "1  [-0.0035983086563646793, 0.009379255585372448,...  \n",
       "2  [-0.008350715972483158, 0.010193136520683765, ...  \n",
       "3  [-0.0008934943471103907, 0.008480808697640896,...  \n",
       "4  [-0.008955701254308224, 0.012521868571639061, ...  "
      ]
     },
     "execution_count": 37,
     "metadata": {},
     "output_type": "execute_result"
    }
   ],
   "source": [
    "df.head()"
   ]
  },
  {
   "cell_type": "code",
   "execution_count": 39,
   "id": "eeb558a2",
   "metadata": {},
   "outputs": [
    {
     "name": "stdout",
     "output_type": "stream",
     "text": [
      "svm accuary score : 0.48125\n",
      "svm f1 score : 0.4830725367290038\n"
     ]
    }
   ],
   "source": [
    "msg_train,msg_test,label_train,label_test = train_test_split(df[\"word2vec\"].tolist(),df[\"Label\"].tolist(),test_size=0.2,random_state=42)\n",
    "svm = Pipeline([(\"svm\",LinearSVC())])\n",
    "svm.fit(msg_train,label_train)\n",
    "y_pred_class = svm.predict(msg_test)\n",
    "\n",
    "print(\"svm accuary score :\", accuracy_score(label_test,y_pred_class))\n",
    "print(\"svm f1 score :\", f1_score(label_test,y_pred_class,average=\"weighted\"))"
   ]
  },
  {
   "cell_type": "code",
   "execution_count": 40,
   "id": "a7813206",
   "metadata": {},
   "outputs": [
    {
     "data": {
      "text/plain": [
       "<sklearn.metrics._plot.confusion_matrix.ConfusionMatrixDisplay at 0x195c8e33be0>"
      ]
     },
     "execution_count": 40,
     "metadata": {},
     "output_type": "execute_result"
    },
    {
     "data": {
      "image/png": "[encoded data removed]",
      "text/plain": [
       "<Figure size 640x480 with 2 Axes>"
      ]
     },
     "metadata": {},
     "output_type": "display_data"
    }
   ],
   "source": [
    "cm = confusion_matrix(label_test,y_pred_class,labels=svm.classes_)\n",
    "disp = ConfusionMatrixDisplay(confusion_matrix=cm,display_labels=svm.classes_)\n",
    "disp.plot()"
   ]
  },
  {
   "cell_type": "code",
   "execution_count": 41,
   "id": "87ecc022",
   "metadata": {},
   "outputs": [],
   "source": [
    "from sklearn.neighbors import KNeighborsClassifier"
   ]
  },
  {
   "cell_type": "code",
   "execution_count": 43,
   "id": "5ebac47f",
   "metadata": {},
   "outputs": [
    {
     "name": "stdout",
     "output_type": "stream",
     "text": [
      "knn accuary score : 0.78875\n",
      "knn f1 score : 0.7887810164274779\n"
     ]
    }
   ],
   "source": [
    "msg_train,msg_test,label_train,label_test = train_test_split(df[\"Text_3\"].tolist(),df[\"Label\"].tolist(),test_size=0.2,random_state=42)\n",
    "knn = Pipeline([(\"vect\",TfidfVectorizer()),(\"knn\",KNeighborsClassifier())])\n",
    "knn.fit(msg_train,label_train)\n",
    "y_pred_class = knn.predict(msg_test)\n",
    "\n",
    "print(\"knn accuary score :\", accuracy_score(label_test,y_pred_class))\n",
    "print(\"knn f1 score :\", f1_score(label_test,y_pred_class,average=\"weighted\"))"
   ]
  },
  {
   "cell_type": "code",
   "execution_count": 44,
   "id": "5788dcb5",
   "metadata": {},
   "outputs": [
    {
     "data": {
      "text/plain": [
       "800"
      ]
     },
     "execution_count": 44,
     "metadata": {},
     "output_type": "execute_result"
    }
   ],
   "source": [
    "len(msg_test)"
   ]
  },
  {
   "cell_type": "code",
   "execution_count": 45,
   "id": "515c9cfe",
   "metadata": {},
   "outputs": [
    {
     "data": {
      "text/plain": [
       "<sklearn.metrics._plot.confusion_matrix.ConfusionMatrixDisplay at 0x195c9d47b50>"
      ]
     },
     "execution_count": 45,
     "metadata": {},
     "output_type": "execute_result"
    },
    {
     "data": {
      "image/png": "[encoded data removed]",
      "text/plain": [
       "<Figure size 640x480 with 2 Axes>"
      ]
     },
     "metadata": {},
     "output_type": "display_data"
    }
   ],
   "source": [
    "cm = confusion_matrix(label_test,y_pred_class,labels=svm.classes_)\n",
    "disp = ConfusionMatrixDisplay(confusion_matrix=cm,display_labels=svm.classes_)\n",
    "disp.plot()"
   ]
  },
  {
   "cell_type": "code",
   "execution_count": 46,
   "id": "ca03cce4",
   "metadata": {},
   "outputs": [
    {
     "name": "stdout",
     "output_type": "stream",
     "text": [
      "knn accuary score : 0.3575\n",
      "knn f1 score : 0.3410346396505098\n"
     ]
    }
   ],
   "source": [
    "msg_train,msg_test,label_train,label_test = train_test_split(df[\"word2vec\"].tolist(),df[\"Label\"].tolist(),test_size=0.2,random_state=42)\n",
    "knn = Pipeline([(\"knn\",KNeighborsClassifier())])\n",
    "knn.fit(msg_train,label_train)\n",
    "y_pred_class = knn.predict(msg_test)\n",
    "\n",
    "print(\"knn accuary score :\", accuracy_score(label_test,y_pred_class))\n",
    "print(\"knn f1 score :\", f1_score(label_test,y_pred_class,average=\"weighted\"))"
   ]
  },
  {
   "cell_type": "code",
   "execution_count": null,
   "id": "8ab97725",
   "metadata": {},
   "outputs": [],
   "source": []
  }
 ],
 "metadata": {
  "kernelspec": {
   "display_name": "Python 3 (ipykernel)",
   "language": "python",
   "name": "python3"
  },
  "language_info": {
   "codemirror_mode": {
    "name": "ipython",
    "version": 3
   },
   "file_extension": ".py",
   "mimetype": "text/x-python",
   "name": "python",
   "nbconvert_exporter": "python",
   "pygments_lexer": "ipython3",
   "version": "3.10.10"
  }
 },
 "nbformat": 4,
 "nbformat_minor": 5
}
