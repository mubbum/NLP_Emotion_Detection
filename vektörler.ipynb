{
 "cells": [
  {
   "cell_type": "markdown",
   "id": "a6936c41-1f06-478d-b44a-66573ff9031f",
   "metadata": {},
   "source": [
    "## BoW"
   ]
  },
  {
   "cell_type": "code",
   "execution_count": 1,
   "id": "5c333544-05cf-40f2-8286-3d6d9a9f0376",
   "metadata": {},
   "outputs": [],
   "source": [
    "from sklearn.feature_extraction.text import CountVectorizer\n",
    "import pandas as pd"
   ]
  },
  {
   "cell_type": "code",
   "execution_count": 2,
   "id": "cf68964f-2195-4405-948a-30e5baf4e3b3",
   "metadata": {},
   "outputs": [
    {
     "data": {
      "text/html": [
       "<div>\n",
       "<style scoped>\n",
       "    .dataframe tbody tr th:only-of-type {\n",
       "        vertical-align: middle;\n",
       "    }\n",
       "\n",
       "    .dataframe tbody tr th {\n",
       "        vertical-align: top;\n",
       "    }\n",
       "\n",
       "    .dataframe thead th {\n",
       "        text-align: right;\n",
       "    }\n",
       "</style>\n",
       "<table border=\"1\" class=\"dataframe\">\n",
       "  <thead>\n",
       "    <tr style=\"text-align: right;\">\n",
       "      <th></th>\n",
       "      <th>Text</th>\n",
       "    </tr>\n",
       "  </thead>\n",
       "  <tbody>\n",
       "    <tr>\n",
       "      <th>0</th>\n",
       "      <td>Yapay Zeka Nedir, Ne İşe Yarar?\\n\\nYapay zeka ...</td>\n",
       "    </tr>\n",
       "    <tr>\n",
       "      <th>1</th>\n",
       "      <td>🔎 Verilerinizi analiz edin: \\nChatGPT'yi kulla...</td>\n",
       "    </tr>\n",
       "    <tr>\n",
       "      <th>2</th>\n",
       "      <td>Öncelikle yapay zekanın ne olduğunu, #dijitala...</td>\n",
       "    </tr>\n",
       "    <tr>\n",
       "      <th>3</th>\n",
       "      <td>9. Baidu Research: Çin'in önde gelen arama mot...</td>\n",
       "    </tr>\n",
       "    <tr>\n",
       "      <th>4</th>\n",
       "      <td>4. Microsoft AI: Microsoft'un yapay zeka tekno...</td>\n",
       "    </tr>\n",
       "  </tbody>\n",
       "</table>\n",
       "</div>"
      ],
      "text/plain": [
       "                                                Text\n",
       "0  Yapay Zeka Nedir, Ne İşe Yarar?\\n\\nYapay zeka ...\n",
       "1  🔎 Verilerinizi analiz edin: \\nChatGPT'yi kulla...\n",
       "2  Öncelikle yapay zekanın ne olduğunu, #dijitala...\n",
       "3  9. Baidu Research: Çin'in önde gelen arama mot...\n",
       "4  4. Microsoft AI: Microsoft'un yapay zeka tekno..."
      ]
     },
     "execution_count": 2,
     "metadata": {},
     "output_type": "execute_result"
    }
   ],
   "source": [
    "df = pd.read_csv(\"data/nlp.csv\", index_col=0)\n",
    "df.head()"
   ]
  },
  {
   "cell_type": "code",
   "execution_count": 3,
   "id": "f15a14b7-8f9c-42d9-b138-fe5a0f57d9e8",
   "metadata": {},
   "outputs": [],
   "source": [
    "import nlp_Melih_Utku_BALA"
   ]
  },
  {
   "cell_type": "code",
   "execution_count": 4,
   "id": "963e3582-567f-4dcb-b55a-3ee924996ddc",
   "metadata": {},
   "outputs": [
    {
     "data": {
      "text/html": [
       "<div>\n",
       "<style scoped>\n",
       "    .dataframe tbody tr th:only-of-type {\n",
       "        vertical-align: middle;\n",
       "    }\n",
       "\n",
       "    .dataframe tbody tr th {\n",
       "        vertical-align: top;\n",
       "    }\n",
       "\n",
       "    .dataframe thead th {\n",
       "        text-align: right;\n",
       "    }\n",
       "</style>\n",
       "<table border=\"1\" class=\"dataframe\">\n",
       "  <thead>\n",
       "    <tr style=\"text-align: right;\">\n",
       "      <th></th>\n",
       "      <th>Text</th>\n",
       "      <th>Text_2</th>\n",
       "    </tr>\n",
       "  </thead>\n",
       "  <tbody>\n",
       "    <tr>\n",
       "      <th>0</th>\n",
       "      <td>Yapay Zeka Nedir, Ne İşe Yarar?\\n\\nYapay zeka ...</td>\n",
       "      <td>[yapay, zeka, nedir, işe, yarar, yapay, zeka, ...</td>\n",
       "    </tr>\n",
       "    <tr>\n",
       "      <th>1</th>\n",
       "      <td>🔎 Verilerinizi analiz edin: \\nChatGPT'yi kulla...</td>\n",
       "      <td>[veri, analiz, edin, chatgptyi, kullanarak, do...</td>\n",
       "    </tr>\n",
       "    <tr>\n",
       "      <th>2</th>\n",
       "      <td>Öncelikle yapay zekanın ne olduğunu, #dijitala...</td>\n",
       "      <td>[öncelik, yapay, zeka, olduğunu, iç, önemli, o...</td>\n",
       "    </tr>\n",
       "    <tr>\n",
       "      <th>3</th>\n",
       "      <td>9. Baidu Research: Çin'in önde gelen arama mot...</td>\n",
       "      <td>[baidu, research, çin, ön, gele, ara, motor, b...</td>\n",
       "    </tr>\n",
       "    <tr>\n",
       "      <th>4</th>\n",
       "      <td>4. Microsoft AI: Microsoft'un yapay zeka tekno...</td>\n",
       "      <td>[microsoft, ai, microsoft, yapay, zeka, teknol...</td>\n",
       "    </tr>\n",
       "  </tbody>\n",
       "</table>\n",
       "</div>"
      ],
      "text/plain": [
       "                                                Text   \n",
       "0  Yapay Zeka Nedir, Ne İşe Yarar?\\n\\nYapay zeka ...  \\\n",
       "1  🔎 Verilerinizi analiz edin: \\nChatGPT'yi kulla...   \n",
       "2  Öncelikle yapay zekanın ne olduğunu, #dijitala...   \n",
       "3  9. Baidu Research: Çin'in önde gelen arama mot...   \n",
       "4  4. Microsoft AI: Microsoft'un yapay zeka tekno...   \n",
       "\n",
       "                                              Text_2  \n",
       "0  [yapay, zeka, nedir, işe, yarar, yapay, zeka, ...  \n",
       "1  [veri, analiz, edin, chatgptyi, kullanarak, do...  \n",
       "2  [öncelik, yapay, zeka, olduğunu, iç, önemli, o...  \n",
       "3  [baidu, research, çin, ön, gele, ara, motor, b...  \n",
       "4  [microsoft, ai, microsoft, yapay, zeka, teknol...  "
      ]
     },
     "execution_count": 4,
     "metadata": {},
     "output_type": "execute_result"
    }
   ],
   "source": [
    "df[\"Text_2\"] = df[\"Text\"].apply(nlp_Melih_Utku_BALA.pre_processing)\n",
    "df[\"Text_2\"] = df[\"Text_2\"].apply(nlp_Melih_Utku_BALA.remove_space)\n",
    "df.head()"
   ]
  },
  {
   "cell_type": "code",
   "execution_count": 5,
   "id": "983c82f0-b5b9-483a-8b81-eed41f496826",
   "metadata": {
    "editable": true,
    "slideshow": {
     "slide_type": ""
    },
    "tags": []
   },
   "outputs": [
    {
     "data": {
      "text/html": [
       "<div>\n",
       "<style scoped>\n",
       "    .dataframe tbody tr th:only-of-type {\n",
       "        vertical-align: middle;\n",
       "    }\n",
       "\n",
       "    .dataframe tbody tr th {\n",
       "        vertical-align: top;\n",
       "    }\n",
       "\n",
       "    .dataframe thead th {\n",
       "        text-align: right;\n",
       "    }\n",
       "</style>\n",
       "<table border=\"1\" class=\"dataframe\">\n",
       "  <thead>\n",
       "    <tr style=\"text-align: right;\">\n",
       "      <th></th>\n",
       "      <th>Text</th>\n",
       "      <th>Text_2</th>\n",
       "    </tr>\n",
       "  </thead>\n",
       "  <tbody>\n",
       "    <tr>\n",
       "      <th>194</th>\n",
       "      <td>#hesaplamalısosyalbilimler #computationalsocia...</td>\n",
       "      <td>[]</td>\n",
       "    </tr>\n",
       "    <tr>\n",
       "      <th>464</th>\n",
       "      <td>#investment #software #technology #tech #innov...</td>\n",
       "      <td>[]</td>\n",
       "    </tr>\n",
       "    <tr>\n",
       "      <th>544</th>\n",
       "      <td>@barolar #ImageRecognition #SınırlıHafıza #Lim...</td>\n",
       "      <td>[]</td>\n",
       "    </tr>\n",
       "  </tbody>\n",
       "</table>\n",
       "</div>"
      ],
      "text/plain": [
       "                                                  Text Text_2\n",
       "194  #hesaplamalısosyalbilimler #computationalsocia...     []\n",
       "464  #investment #software #technology #tech #innov...     []\n",
       "544  @barolar #ImageRecognition #SınırlıHafıza #Lim...     []"
      ]
     },
     "execution_count": 5,
     "metadata": {},
     "output_type": "execute_result"
    }
   ],
   "source": [
    "#Boş liste kontrolü\n",
    "df[df[\"Text_2\"].str[0].isnull()]"
   ]
  },
  {
   "cell_type": "code",
   "execution_count": 6,
   "id": "543528f6-bc06-412e-9c56-221a37976647",
   "metadata": {},
   "outputs": [
    {
     "data": {
      "text/html": [
       "<div>\n",
       "<style scoped>\n",
       "    .dataframe tbody tr th:only-of-type {\n",
       "        vertical-align: middle;\n",
       "    }\n",
       "\n",
       "    .dataframe tbody tr th {\n",
       "        vertical-align: top;\n",
       "    }\n",
       "\n",
       "    .dataframe thead th {\n",
       "        text-align: right;\n",
       "    }\n",
       "</style>\n",
       "<table border=\"1\" class=\"dataframe\">\n",
       "  <thead>\n",
       "    <tr style=\"text-align: right;\">\n",
       "      <th></th>\n",
       "      <th>Text</th>\n",
       "      <th>Text_2</th>\n",
       "    </tr>\n",
       "  </thead>\n",
       "  <tbody>\n",
       "  </tbody>\n",
       "</table>\n",
       "</div>"
      ],
      "text/plain": [
       "Empty DataFrame\n",
       "Columns: [Text, Text_2]\n",
       "Index: []"
      ]
     },
     "execution_count": 6,
     "metadata": {},
     "output_type": "execute_result"
    }
   ],
   "source": [
    "df_index = df[df[\"Text_2\"].str[0].isnull()].index\n",
    "df = df.drop(df_index)\n",
    "df = df.reset_index()\n",
    "del df[\"index\"]\n",
    "\n",
    "df[df[\"Text_2\"].str[0].isnull()]"
   ]
  },
  {
   "cell_type": "code",
   "execution_count": 7,
   "id": "d134c799-19aa-4a13-a4b4-e102440ba2e0",
   "metadata": {},
   "outputs": [
    {
     "data": {
      "text/html": [
       "<div>\n",
       "<style scoped>\n",
       "    .dataframe tbody tr th:only-of-type {\n",
       "        vertical-align: middle;\n",
       "    }\n",
       "\n",
       "    .dataframe tbody tr th {\n",
       "        vertical-align: top;\n",
       "    }\n",
       "\n",
       "    .dataframe thead th {\n",
       "        text-align: right;\n",
       "    }\n",
       "</style>\n",
       "<table border=\"1\" class=\"dataframe\">\n",
       "  <thead>\n",
       "    <tr style=\"text-align: right;\">\n",
       "      <th></th>\n",
       "      <th>Text</th>\n",
       "      <th>Text_2</th>\n",
       "    </tr>\n",
       "  </thead>\n",
       "  <tbody>\n",
       "    <tr>\n",
       "      <th>0</th>\n",
       "      <td>Yapay Zeka Nedir, Ne İşe Yarar?\\n\\nYapay zeka ...</td>\n",
       "      <td>[yapay, zeka, nedir, işe, yarar, yapay, zeka, ...</td>\n",
       "    </tr>\n",
       "    <tr>\n",
       "      <th>1</th>\n",
       "      <td>🔎 Verilerinizi analiz edin: \\nChatGPT'yi kulla...</td>\n",
       "      <td>[veri, analiz, edin, chatgptyi, kullanarak, do...</td>\n",
       "    </tr>\n",
       "    <tr>\n",
       "      <th>2</th>\n",
       "      <td>Öncelikle yapay zekanın ne olduğunu, #dijitala...</td>\n",
       "      <td>[öncelik, yapay, zeka, olduğunu, iç, önemli, o...</td>\n",
       "    </tr>\n",
       "    <tr>\n",
       "      <th>3</th>\n",
       "      <td>9. Baidu Research: Çin'in önde gelen arama mot...</td>\n",
       "      <td>[baidu, research, çin, ön, gele, ara, motor, b...</td>\n",
       "    </tr>\n",
       "    <tr>\n",
       "      <th>4</th>\n",
       "      <td>4. Microsoft AI: Microsoft'un yapay zeka tekno...</td>\n",
       "      <td>[microsoft, ai, microsoft, yapay, zeka, teknol...</td>\n",
       "    </tr>\n",
       "  </tbody>\n",
       "</table>\n",
       "</div>"
      ],
      "text/plain": [
       "                                                Text   \n",
       "0  Yapay Zeka Nedir, Ne İşe Yarar?\\n\\nYapay zeka ...  \\\n",
       "1  🔎 Verilerinizi analiz edin: \\nChatGPT'yi kulla...   \n",
       "2  Öncelikle yapay zekanın ne olduğunu, #dijitala...   \n",
       "3  9. Baidu Research: Çin'in önde gelen arama mot...   \n",
       "4  4. Microsoft AI: Microsoft'un yapay zeka tekno...   \n",
       "\n",
       "                                              Text_2  \n",
       "0  [yapay, zeka, nedir, işe, yarar, yapay, zeka, ...  \n",
       "1  [veri, analiz, edin, chatgptyi, kullanarak, do...  \n",
       "2  [öncelik, yapay, zeka, olduğunu, iç, önemli, o...  \n",
       "3  [baidu, research, çin, ön, gele, ara, motor, b...  \n",
       "4  [microsoft, ai, microsoft, yapay, zeka, teknol...  "
      ]
     },
     "execution_count": 7,
     "metadata": {},
     "output_type": "execute_result"
    }
   ],
   "source": [
    "df.head()"
   ]
  },
  {
   "cell_type": "code",
   "execution_count": 8,
   "id": "fcf46450-407d-42c1-9c56-0b59fc03031f",
   "metadata": {},
   "outputs": [
    {
     "data": {
      "text/plain": [
       "0      [yapay, zeka, nedir, işe, yarar, yapay, zeka, ...\n",
       "1      [veri, analiz, edin, chatgptyi, kullanarak, do...\n",
       "2      [öncelik, yapay, zeka, olduğunu, iç, önemli, o...\n",
       "3      [baidu, research, çin, ön, gele, ara, motor, b...\n",
       "4      [microsoft, ai, microsoft, yapay, zeka, teknol...\n",
       "                             ...                        \n",
       "850    [doğal, dil, işle, alan, yük, lisansdoktor, ya...\n",
       "851                                   [dogal, dil, isle]\n",
       "852       [ver, madencilik, doğal, dil, işle, uygulamas]\n",
       "853    [doğal, dil, işleme, il, ilgil, deney, ola, ya...\n",
       "854    [hafta, öğrencilik, hayat, kaldık, yer, deva, ...\n",
       "Name: Text_2, Length: 855, dtype: object"
      ]
     },
     "execution_count": 8,
     "metadata": {},
     "output_type": "execute_result"
    }
   ],
   "source": [
    "df[\"Text_2\"]"
   ]
  },
  {
   "cell_type": "code",
   "execution_count": 9,
   "id": "df4b239a-b182-4272-9935-d02c84be8800",
   "metadata": {},
   "outputs": [
    {
     "data": {
      "text/html": [
       "<div>\n",
       "<style scoped>\n",
       "    .dataframe tbody tr th:only-of-type {\n",
       "        vertical-align: middle;\n",
       "    }\n",
       "\n",
       "    .dataframe tbody tr th {\n",
       "        vertical-align: top;\n",
       "    }\n",
       "\n",
       "    .dataframe thead th {\n",
       "        text-align: right;\n",
       "    }\n",
       "</style>\n",
       "<table border=\"1\" class=\"dataframe\">\n",
       "  <thead>\n",
       "    <tr style=\"text-align: right;\">\n",
       "      <th></th>\n",
       "      <th>Text</th>\n",
       "      <th>Text_2</th>\n",
       "      <th>Text_3</th>\n",
       "    </tr>\n",
       "  </thead>\n",
       "  <tbody>\n",
       "    <tr>\n",
       "      <th>0</th>\n",
       "      <td>Yapay Zeka Nedir, Ne İşe Yarar?\\n\\nYapay zeka ...</td>\n",
       "      <td>[yapay, zeka, nedir, işe, yarar, yapay, zeka, ...</td>\n",
       "      <td>yapay zeka nedir işe yarar yapay zeka yz bilgi...</td>\n",
       "    </tr>\n",
       "    <tr>\n",
       "      <th>1</th>\n",
       "      <td>🔎 Verilerinizi analiz edin: \\nChatGPT'yi kulla...</td>\n",
       "      <td>[veri, analiz, edin, chatgptyi, kullanarak, do...</td>\n",
       "      <td>veri analiz edin chatgptyi kullanarak doğal di...</td>\n",
       "    </tr>\n",
       "    <tr>\n",
       "      <th>2</th>\n",
       "      <td>Öncelikle yapay zekanın ne olduğunu, #dijitala...</td>\n",
       "      <td>[öncelik, yapay, zeka, olduğunu, iç, önemli, o...</td>\n",
       "      <td>öncelik yapay zeka olduğunu iç önemli olduk kı...</td>\n",
       "    </tr>\n",
       "    <tr>\n",
       "      <th>3</th>\n",
       "      <td>9. Baidu Research: Çin'in önde gelen arama mot...</td>\n",
       "      <td>[baidu, research, çin, ön, gele, ara, motor, b...</td>\n",
       "      <td>baidu research çin ön gele ara motor baidun ar...</td>\n",
       "    </tr>\n",
       "    <tr>\n",
       "      <th>4</th>\n",
       "      <td>4. Microsoft AI: Microsoft'un yapay zeka tekno...</td>\n",
       "      <td>[microsoft, ai, microsoft, yapay, zeka, teknol...</td>\n",
       "      <td>microsoft ai microsoft yapay zeka teknoloji od...</td>\n",
       "    </tr>\n",
       "    <tr>\n",
       "      <th>...</th>\n",
       "      <td>...</td>\n",
       "      <td>...</td>\n",
       "      <td>...</td>\n",
       "    </tr>\n",
       "    <tr>\n",
       "      <th>850</th>\n",
       "      <td>doğal dil işleme alanında yüksek lisans-doktor...</td>\n",
       "      <td>[doğal, dil, işle, alan, yük, lisansdoktor, ya...</td>\n",
       "      <td>doğal dil işle alan yük lisansdoktor yapa danı...</td>\n",
       "    </tr>\n",
       "    <tr>\n",
       "      <th>851</th>\n",
       "      <td>dogal dil isleme şeyleri</td>\n",
       "      <td>[dogal, dil, isle]</td>\n",
       "      <td>dogal dil isle</td>\n",
       "    </tr>\n",
       "    <tr>\n",
       "      <th>852</th>\n",
       "      <td>Bir veri madenciliği ve doğal dil işleme uygul...</td>\n",
       "      <td>[ver, madencilik, doğal, dil, işle, uygulamas]</td>\n",
       "      <td>ver madencilik doğal dil işle uygulamas</td>\n",
       "    </tr>\n",
       "    <tr>\n",
       "      <th>853</th>\n",
       "      <td>\"Doğal dil işleme\" ile ilgili deneyimi olan ya...</td>\n",
       "      <td>[doğal, dil, işleme, il, ilgil, deney, ola, ya...</td>\n",
       "      <td>doğal dil işleme il ilgil deney ola yazılımcı ...</td>\n",
       "    </tr>\n",
       "    <tr>\n",
       "      <th>854</th>\n",
       "      <td>Haftaya öğrencilik hayatıma kaldığım yerden de...</td>\n",
       "      <td>[hafta, öğrencilik, hayat, kaldık, yer, deva, ...</td>\n",
       "      <td>hafta öğrencilik hayat kaldık yer deva ediyoru...</td>\n",
       "    </tr>\n",
       "  </tbody>\n",
       "</table>\n",
       "<p>855 rows × 3 columns</p>\n",
       "</div>"
      ],
      "text/plain": [
       "                                                  Text   \n",
       "0    Yapay Zeka Nedir, Ne İşe Yarar?\\n\\nYapay zeka ...  \\\n",
       "1    🔎 Verilerinizi analiz edin: \\nChatGPT'yi kulla...   \n",
       "2    Öncelikle yapay zekanın ne olduğunu, #dijitala...   \n",
       "3    9. Baidu Research: Çin'in önde gelen arama mot...   \n",
       "4    4. Microsoft AI: Microsoft'un yapay zeka tekno...   \n",
       "..                                                 ...   \n",
       "850  doğal dil işleme alanında yüksek lisans-doktor...   \n",
       "851                           dogal dil isleme şeyleri   \n",
       "852  Bir veri madenciliği ve doğal dil işleme uygul...   \n",
       "853  \"Doğal dil işleme\" ile ilgili deneyimi olan ya...   \n",
       "854  Haftaya öğrencilik hayatıma kaldığım yerden de...   \n",
       "\n",
       "                                                Text_2   \n",
       "0    [yapay, zeka, nedir, işe, yarar, yapay, zeka, ...  \\\n",
       "1    [veri, analiz, edin, chatgptyi, kullanarak, do...   \n",
       "2    [öncelik, yapay, zeka, olduğunu, iç, önemli, o...   \n",
       "3    [baidu, research, çin, ön, gele, ara, motor, b...   \n",
       "4    [microsoft, ai, microsoft, yapay, zeka, teknol...   \n",
       "..                                                 ...   \n",
       "850  [doğal, dil, işle, alan, yük, lisansdoktor, ya...   \n",
       "851                                 [dogal, dil, isle]   \n",
       "852     [ver, madencilik, doğal, dil, işle, uygulamas]   \n",
       "853  [doğal, dil, işleme, il, ilgil, deney, ola, ya...   \n",
       "854  [hafta, öğrencilik, hayat, kaldık, yer, deva, ...   \n",
       "\n",
       "                                                Text_3  \n",
       "0    yapay zeka nedir işe yarar yapay zeka yz bilgi...  \n",
       "1    veri analiz edin chatgptyi kullanarak doğal di...  \n",
       "2    öncelik yapay zeka olduğunu iç önemli olduk kı...  \n",
       "3    baidu research çin ön gele ara motor baidun ar...  \n",
       "4    microsoft ai microsoft yapay zeka teknoloji od...  \n",
       "..                                                 ...  \n",
       "850  doğal dil işle alan yük lisansdoktor yapa danı...  \n",
       "851                                     dogal dil isle  \n",
       "852            ver madencilik doğal dil işle uygulamas  \n",
       "853  doğal dil işleme il ilgil deney ola yazılımcı ...  \n",
       "854  hafta öğrencilik hayat kaldık yer deva ediyoru...  \n",
       "\n",
       "[855 rows x 3 columns]"
      ]
     },
     "execution_count": 9,
     "metadata": {},
     "output_type": "execute_result"
    }
   ],
   "source": [
    "df[\"Text_3\"] = [' '.join(w for w in item) for item in df[\"Text_2\"]]\n",
    "df"
   ]
  },
  {
   "cell_type": "code",
   "execution_count": 10,
   "id": "fecb86a9-4301-46e9-850a-035ecfcedb84",
   "metadata": {},
   "outputs": [
    {
     "data": {
      "text/plain": [
       "<855x4785 sparse matrix of type '<class 'numpy.int64'>'\n",
       "\twith 16931 stored elements in Compressed Sparse Row format>"
      ]
     },
     "execution_count": 10,
     "metadata": {},
     "output_type": "execute_result"
    }
   ],
   "source": [
    "vectorizer = CountVectorizer()\n",
    "X = vectorizer.fit_transform(df[\"Text_3\"].tolist())\n",
    "X"
   ]
  },
  {
   "cell_type": "code",
   "execution_count": 11,
   "id": "5259dff6-c196-43e5-a07d-d0ee83f6bf27",
   "metadata": {},
   "outputs": [
    {
     "data": {
      "text/plain": [
       "array([[0, 0, 0, ..., 0, 0, 0],\n",
       "       [0, 0, 0, ..., 0, 0, 0],\n",
       "       [0, 0, 0, ..., 0, 0, 0],\n",
       "       ...,\n",
       "       [0, 0, 0, ..., 0, 0, 0],\n",
       "       [0, 0, 0, ..., 0, 0, 0],\n",
       "       [0, 0, 0, ..., 0, 0, 0]], dtype=int64)"
      ]
     },
     "execution_count": 11,
     "metadata": {},
     "output_type": "execute_result"
    }
   ],
   "source": [
    "X.toarray()"
   ]
  },
  {
   "cell_type": "code",
   "execution_count": 12,
   "id": "4eb4a6f1-c514-45b3-a842-e9c8baf0b862",
   "metadata": {},
   "outputs": [
    {
     "data": {
      "text/html": [
       "<div>\n",
       "<style scoped>\n",
       "    .dataframe tbody tr th:only-of-type {\n",
       "        vertical-align: middle;\n",
       "    }\n",
       "\n",
       "    .dataframe tbody tr th {\n",
       "        vertical-align: top;\n",
       "    }\n",
       "\n",
       "    .dataframe thead th {\n",
       "        text-align: right;\n",
       "    }\n",
       "</style>\n",
       "<table border=\"1\" class=\"dataframe\">\n",
       "  <thead>\n",
       "    <tr style=\"text-align: right;\">\n",
       "      <th></th>\n",
       "      <th>Text</th>\n",
       "      <th>Text_2</th>\n",
       "      <th>Text_3</th>\n",
       "      <th>Text_4</th>\n",
       "    </tr>\n",
       "  </thead>\n",
       "  <tbody>\n",
       "    <tr>\n",
       "      <th>0</th>\n",
       "      <td>Yapay Zeka Nedir, Ne İşe Yarar?\\n\\nYapay zeka ...</td>\n",
       "      <td>[yapay, zeka, nedir, işe, yarar, yapay, zeka, ...</td>\n",
       "      <td>yapay zeka nedir işe yarar yapay zeka yz bilgi...</td>\n",
       "      <td>[0, 0, 0, 0, 0, 0, 0, 0, 0, 0, 0, 0, 0, 0, 0, ...</td>\n",
       "    </tr>\n",
       "    <tr>\n",
       "      <th>1</th>\n",
       "      <td>🔎 Verilerinizi analiz edin: \\nChatGPT'yi kulla...</td>\n",
       "      <td>[veri, analiz, edin, chatgptyi, kullanarak, do...</td>\n",
       "      <td>veri analiz edin chatgptyi kullanarak doğal di...</td>\n",
       "      <td>[0, 0, 0, 0, 0, 0, 0, 0, 0, 0, 0, 0, 0, 0, 0, ...</td>\n",
       "    </tr>\n",
       "    <tr>\n",
       "      <th>2</th>\n",
       "      <td>Öncelikle yapay zekanın ne olduğunu, #dijitala...</td>\n",
       "      <td>[öncelik, yapay, zeka, olduğunu, iç, önemli, o...</td>\n",
       "      <td>öncelik yapay zeka olduğunu iç önemli olduk kı...</td>\n",
       "      <td>[0, 0, 0, 0, 0, 0, 0, 0, 0, 0, 0, 0, 0, 0, 0, ...</td>\n",
       "    </tr>\n",
       "    <tr>\n",
       "      <th>3</th>\n",
       "      <td>9. Baidu Research: Çin'in önde gelen arama mot...</td>\n",
       "      <td>[baidu, research, çin, ön, gele, ara, motor, b...</td>\n",
       "      <td>baidu research çin ön gele ara motor baidun ar...</td>\n",
       "      <td>[0, 0, 0, 0, 0, 0, 0, 0, 0, 0, 0, 0, 0, 0, 0, ...</td>\n",
       "    </tr>\n",
       "    <tr>\n",
       "      <th>4</th>\n",
       "      <td>4. Microsoft AI: Microsoft'un yapay zeka tekno...</td>\n",
       "      <td>[microsoft, ai, microsoft, yapay, zeka, teknol...</td>\n",
       "      <td>microsoft ai microsoft yapay zeka teknoloji od...</td>\n",
       "      <td>[0, 0, 0, 0, 0, 0, 0, 0, 0, 0, 0, 0, 0, 0, 0, ...</td>\n",
       "    </tr>\n",
       "  </tbody>\n",
       "</table>\n",
       "</div>"
      ],
      "text/plain": [
       "                                                Text   \n",
       "0  Yapay Zeka Nedir, Ne İşe Yarar?\\n\\nYapay zeka ...  \\\n",
       "1  🔎 Verilerinizi analiz edin: \\nChatGPT'yi kulla...   \n",
       "2  Öncelikle yapay zekanın ne olduğunu, #dijitala...   \n",
       "3  9. Baidu Research: Çin'in önde gelen arama mot...   \n",
       "4  4. Microsoft AI: Microsoft'un yapay zeka tekno...   \n",
       "\n",
       "                                              Text_2   \n",
       "0  [yapay, zeka, nedir, işe, yarar, yapay, zeka, ...  \\\n",
       "1  [veri, analiz, edin, chatgptyi, kullanarak, do...   \n",
       "2  [öncelik, yapay, zeka, olduğunu, iç, önemli, o...   \n",
       "3  [baidu, research, çin, ön, gele, ara, motor, b...   \n",
       "4  [microsoft, ai, microsoft, yapay, zeka, teknol...   \n",
       "\n",
       "                                              Text_3   \n",
       "0  yapay zeka nedir işe yarar yapay zeka yz bilgi...  \\\n",
       "1  veri analiz edin chatgptyi kullanarak doğal di...   \n",
       "2  öncelik yapay zeka olduğunu iç önemli olduk kı...   \n",
       "3  baidu research çin ön gele ara motor baidun ar...   \n",
       "4  microsoft ai microsoft yapay zeka teknoloji od...   \n",
       "\n",
       "                                              Text_4  \n",
       "0  [0, 0, 0, 0, 0, 0, 0, 0, 0, 0, 0, 0, 0, 0, 0, ...  \n",
       "1  [0, 0, 0, 0, 0, 0, 0, 0, 0, 0, 0, 0, 0, 0, 0, ...  \n",
       "2  [0, 0, 0, 0, 0, 0, 0, 0, 0, 0, 0, 0, 0, 0, 0, ...  \n",
       "3  [0, 0, 0, 0, 0, 0, 0, 0, 0, 0, 0, 0, 0, 0, 0, ...  \n",
       "4  [0, 0, 0, 0, 0, 0, 0, 0, 0, 0, 0, 0, 0, 0, 0, ...  "
      ]
     },
     "execution_count": 12,
     "metadata": {},
     "output_type": "execute_result"
    }
   ],
   "source": [
    "df[\"Text_4\"] = X.toarray().tolist()\n",
    "df.head()"
   ]
  },
  {
   "cell_type": "code",
   "execution_count": 13,
   "id": "7e346992-88ab-4996-adf8-4d457f849f42",
   "metadata": {},
   "outputs": [
    {
     "data": {
      "text/plain": [
       "{0, 1, 2, 3, 4}"
      ]
     },
     "execution_count": 13,
     "metadata": {},
     "output_type": "execute_result"
    }
   ],
   "source": [
    "set(X.toarray()[0].tolist())"
   ]
  },
  {
   "cell_type": "code",
   "execution_count": 14,
   "id": "a4448244-d735-42b1-b659-0611e517a08d",
   "metadata": {},
   "outputs": [],
   "source": [
    "# vectorizer.vocabulary_.keys()"
   ]
  },
  {
   "cell_type": "markdown",
   "id": "126451e7-707d-45e5-a422-02b4b9b2a6c9",
   "metadata": {},
   "source": [
    "## TF-IDF"
   ]
  },
  {
   "cell_type": "code",
   "execution_count": 15,
   "id": "a72fb708-f672-4622-8b76-69d59a535d5b",
   "metadata": {
    "editable": true,
    "slideshow": {
     "slide_type": ""
    },
    "tags": []
   },
   "outputs": [],
   "source": [
    "from sklearn.feature_extraction.text import TfidfVectorizer"
   ]
  },
  {
   "cell_type": "code",
   "execution_count": 16,
   "id": "6adea2ca-6321-4a7c-a534-35959407f0d3",
   "metadata": {},
   "outputs": [
    {
     "data": {
      "text/plain": [
       "<855x4785 sparse matrix of type '<class 'numpy.float64'>'\n",
       "\twith 16931 stored elements in Compressed Sparse Row format>"
      ]
     },
     "execution_count": 16,
     "metadata": {},
     "output_type": "execute_result"
    }
   ],
   "source": [
    "vectorizer = TfidfVectorizer()\n",
    "X = vectorizer.fit_transform(df[\"Text_3\"].tolist())\n",
    "X"
   ]
  },
  {
   "cell_type": "code",
   "execution_count": 17,
   "id": "8a48c2ab-8e99-4e46-8689-8721c756b90e",
   "metadata": {},
   "outputs": [
    {
     "data": {
      "text/plain": [
       "array([[0., 0., 0., ..., 0., 0., 0.],\n",
       "       [0., 0., 0., ..., 0., 0., 0.],\n",
       "       [0., 0., 0., ..., 0., 0., 0.],\n",
       "       ...,\n",
       "       [0., 0., 0., ..., 0., 0., 0.],\n",
       "       [0., 0., 0., ..., 0., 0., 0.],\n",
       "       [0., 0., 0., ..., 0., 0., 0.]])"
      ]
     },
     "execution_count": 17,
     "metadata": {},
     "output_type": "execute_result"
    }
   ],
   "source": [
    "X.toarray()"
   ]
  },
  {
   "cell_type": "code",
   "execution_count": 18,
   "id": "381667b1-6cb0-467c-8a55-3bce0f33b5ae",
   "metadata": {},
   "outputs": [
    {
     "data": {
      "text/plain": [
       "{0.0,\n",
       " 0.03508115658001388,\n",
       " 0.03685011328026531,\n",
       " 0.12317029281566404,\n",
       " 0.1287180325367376,\n",
       " 0.1293951901484212,\n",
       " 0.14937145922687903,\n",
       " 0.15331933006757356,\n",
       " 0.15474585010773745,\n",
       " 0.15623579147571884,\n",
       " 0.1669097751456677,\n",
       " 0.17386946496025046,\n",
       " 0.1765523493830673,\n",
       " 0.19014279446116142,\n",
       " 0.19978536869856103,\n",
       " 0.20581084119178317,\n",
       " 0.21337581377665515,\n",
       " 0.22232665378265135,\n",
       " 0.22301838801405474,\n",
       " 0.2366088330921489,\n",
       " 0.3162294875300779}"
      ]
     },
     "execution_count": 18,
     "metadata": {},
     "output_type": "execute_result"
    }
   ],
   "source": [
    "set(X.toarray()[0])"
   ]
  },
  {
   "cell_type": "code",
   "execution_count": 19,
   "id": "f3551b5a-f282-4759-9956-59c67b5af351",
   "metadata": {},
   "outputs": [
    {
     "data": {
      "text/html": [
       "<div>\n",
       "<style scoped>\n",
       "    .dataframe tbody tr th:only-of-type {\n",
       "        vertical-align: middle;\n",
       "    }\n",
       "\n",
       "    .dataframe tbody tr th {\n",
       "        vertical-align: top;\n",
       "    }\n",
       "\n",
       "    .dataframe thead th {\n",
       "        text-align: right;\n",
       "    }\n",
       "</style>\n",
       "<table border=\"1\" class=\"dataframe\">\n",
       "  <thead>\n",
       "    <tr style=\"text-align: right;\">\n",
       "      <th></th>\n",
       "      <th>Text</th>\n",
       "      <th>Text_2</th>\n",
       "      <th>Text_3</th>\n",
       "      <th>Text_4</th>\n",
       "      <th>Text_5</th>\n",
       "    </tr>\n",
       "  </thead>\n",
       "  <tbody>\n",
       "    <tr>\n",
       "      <th>0</th>\n",
       "      <td>Yapay Zeka Nedir, Ne İşe Yarar?\\n\\nYapay zeka ...</td>\n",
       "      <td>[yapay, zeka, nedir, işe, yarar, yapay, zeka, ...</td>\n",
       "      <td>yapay zeka nedir işe yarar yapay zeka yz bilgi...</td>\n",
       "      <td>[0, 0, 0, 0, 0, 0, 0, 0, 0, 0, 0, 0, 0, 0, 0, ...</td>\n",
       "      <td>[0.0, 0.0, 0.0, 0.0, 0.0, 0.0, 0.0, 0.0, 0.0, ...</td>\n",
       "    </tr>\n",
       "    <tr>\n",
       "      <th>1</th>\n",
       "      <td>🔎 Verilerinizi analiz edin: \\nChatGPT'yi kulla...</td>\n",
       "      <td>[veri, analiz, edin, chatgptyi, kullanarak, do...</td>\n",
       "      <td>veri analiz edin chatgptyi kullanarak doğal di...</td>\n",
       "      <td>[0, 0, 0, 0, 0, 0, 0, 0, 0, 0, 0, 0, 0, 0, 0, ...</td>\n",
       "      <td>[0.0, 0.0, 0.0, 0.0, 0.0, 0.0, 0.0, 0.0, 0.0, ...</td>\n",
       "    </tr>\n",
       "    <tr>\n",
       "      <th>2</th>\n",
       "      <td>Öncelikle yapay zekanın ne olduğunu, #dijitala...</td>\n",
       "      <td>[öncelik, yapay, zeka, olduğunu, iç, önemli, o...</td>\n",
       "      <td>öncelik yapay zeka olduğunu iç önemli olduk kı...</td>\n",
       "      <td>[0, 0, 0, 0, 0, 0, 0, 0, 0, 0, 0, 0, 0, 0, 0, ...</td>\n",
       "      <td>[0.0, 0.0, 0.0, 0.0, 0.0, 0.0, 0.0, 0.0, 0.0, ...</td>\n",
       "    </tr>\n",
       "    <tr>\n",
       "      <th>3</th>\n",
       "      <td>9. Baidu Research: Çin'in önde gelen arama mot...</td>\n",
       "      <td>[baidu, research, çin, ön, gele, ara, motor, b...</td>\n",
       "      <td>baidu research çin ön gele ara motor baidun ar...</td>\n",
       "      <td>[0, 0, 0, 0, 0, 0, 0, 0, 0, 0, 0, 0, 0, 0, 0, ...</td>\n",
       "      <td>[0.0, 0.0, 0.0, 0.0, 0.0, 0.0, 0.0, 0.0, 0.0, ...</td>\n",
       "    </tr>\n",
       "    <tr>\n",
       "      <th>4</th>\n",
       "      <td>4. Microsoft AI: Microsoft'un yapay zeka tekno...</td>\n",
       "      <td>[microsoft, ai, microsoft, yapay, zeka, teknol...</td>\n",
       "      <td>microsoft ai microsoft yapay zeka teknoloji od...</td>\n",
       "      <td>[0, 0, 0, 0, 0, 0, 0, 0, 0, 0, 0, 0, 0, 0, 0, ...</td>\n",
       "      <td>[0.0, 0.0, 0.0, 0.0, 0.0, 0.0, 0.0, 0.0, 0.0, ...</td>\n",
       "    </tr>\n",
       "  </tbody>\n",
       "</table>\n",
       "</div>"
      ],
      "text/plain": [
       "                                                Text   \n",
       "0  Yapay Zeka Nedir, Ne İşe Yarar?\\n\\nYapay zeka ...  \\\n",
       "1  🔎 Verilerinizi analiz edin: \\nChatGPT'yi kulla...   \n",
       "2  Öncelikle yapay zekanın ne olduğunu, #dijitala...   \n",
       "3  9. Baidu Research: Çin'in önde gelen arama mot...   \n",
       "4  4. Microsoft AI: Microsoft'un yapay zeka tekno...   \n",
       "\n",
       "                                              Text_2   \n",
       "0  [yapay, zeka, nedir, işe, yarar, yapay, zeka, ...  \\\n",
       "1  [veri, analiz, edin, chatgptyi, kullanarak, do...   \n",
       "2  [öncelik, yapay, zeka, olduğunu, iç, önemli, o...   \n",
       "3  [baidu, research, çin, ön, gele, ara, motor, b...   \n",
       "4  [microsoft, ai, microsoft, yapay, zeka, teknol...   \n",
       "\n",
       "                                              Text_3   \n",
       "0  yapay zeka nedir işe yarar yapay zeka yz bilgi...  \\\n",
       "1  veri analiz edin chatgptyi kullanarak doğal di...   \n",
       "2  öncelik yapay zeka olduğunu iç önemli olduk kı...   \n",
       "3  baidu research çin ön gele ara motor baidun ar...   \n",
       "4  microsoft ai microsoft yapay zeka teknoloji od...   \n",
       "\n",
       "                                              Text_4   \n",
       "0  [0, 0, 0, 0, 0, 0, 0, 0, 0, 0, 0, 0, 0, 0, 0, ...  \\\n",
       "1  [0, 0, 0, 0, 0, 0, 0, 0, 0, 0, 0, 0, 0, 0, 0, ...   \n",
       "2  [0, 0, 0, 0, 0, 0, 0, 0, 0, 0, 0, 0, 0, 0, 0, ...   \n",
       "3  [0, 0, 0, 0, 0, 0, 0, 0, 0, 0, 0, 0, 0, 0, 0, ...   \n",
       "4  [0, 0, 0, 0, 0, 0, 0, 0, 0, 0, 0, 0, 0, 0, 0, ...   \n",
       "\n",
       "                                              Text_5  \n",
       "0  [0.0, 0.0, 0.0, 0.0, 0.0, 0.0, 0.0, 0.0, 0.0, ...  \n",
       "1  [0.0, 0.0, 0.0, 0.0, 0.0, 0.0, 0.0, 0.0, 0.0, ...  \n",
       "2  [0.0, 0.0, 0.0, 0.0, 0.0, 0.0, 0.0, 0.0, 0.0, ...  \n",
       "3  [0.0, 0.0, 0.0, 0.0, 0.0, 0.0, 0.0, 0.0, 0.0, ...  \n",
       "4  [0.0, 0.0, 0.0, 0.0, 0.0, 0.0, 0.0, 0.0, 0.0, ...  "
      ]
     },
     "execution_count": 19,
     "metadata": {},
     "output_type": "execute_result"
    }
   ],
   "source": [
    "df[\"Text_5\"] = X.toarray().tolist()\n",
    "df.head()"
   ]
  },
  {
   "cell_type": "code",
   "execution_count": 20,
   "id": "4d23711a-557c-4d68-98ee-64acd5da66a2",
   "metadata": {},
   "outputs": [
    {
     "data": {
      "text/plain": [
       "4785"
      ]
     },
     "execution_count": 20,
     "metadata": {},
     "output_type": "execute_result"
    }
   ],
   "source": [
    "len(X.toarray()[0])"
   ]
  },
  {
   "cell_type": "markdown",
   "id": "90e11dfe-82fc-4b75-bd5a-397e0c0c22ed",
   "metadata": {},
   "source": [
    "## Word2Vec"
   ]
  },
  {
   "cell_type": "code",
   "execution_count": 21,
   "id": "260befa3-95c7-4ba2-af7e-6a522535788d",
   "metadata": {},
   "outputs": [],
   "source": [
    "from gensim.models import Word2Vec"
   ]
  },
  {
   "cell_type": "code",
   "execution_count": 22,
   "id": "51495017-869c-4f25-8712-1c2630c698eb",
   "metadata": {},
   "outputs": [
    {
     "data": {
      "text/html": [
       "<div>\n",
       "<style scoped>\n",
       "    .dataframe tbody tr th:only-of-type {\n",
       "        vertical-align: middle;\n",
       "    }\n",
       "\n",
       "    .dataframe tbody tr th {\n",
       "        vertical-align: top;\n",
       "    }\n",
       "\n",
       "    .dataframe thead th {\n",
       "        text-align: right;\n",
       "    }\n",
       "</style>\n",
       "<table border=\"1\" class=\"dataframe\">\n",
       "  <thead>\n",
       "    <tr style=\"text-align: right;\">\n",
       "      <th></th>\n",
       "      <th>Text</th>\n",
       "      <th>Text_2</th>\n",
       "      <th>Text_3</th>\n",
       "      <th>Text_4</th>\n",
       "      <th>Text_5</th>\n",
       "    </tr>\n",
       "  </thead>\n",
       "  <tbody>\n",
       "    <tr>\n",
       "      <th>0</th>\n",
       "      <td>Yapay Zeka Nedir, Ne İşe Yarar?\\n\\nYapay zeka ...</td>\n",
       "      <td>[yapay, zeka, nedir, işe, yarar, yapay, zeka, ...</td>\n",
       "      <td>yapay zeka nedir işe yarar yapay zeka yz bilgi...</td>\n",
       "      <td>[0, 0, 0, 0, 0, 0, 0, 0, 0, 0, 0, 0, 0, 0, 0, ...</td>\n",
       "      <td>[0.0, 0.0, 0.0, 0.0, 0.0, 0.0, 0.0, 0.0, 0.0, ...</td>\n",
       "    </tr>\n",
       "    <tr>\n",
       "      <th>1</th>\n",
       "      <td>🔎 Verilerinizi analiz edin: \\nChatGPT'yi kulla...</td>\n",
       "      <td>[veri, analiz, edin, chatgptyi, kullanarak, do...</td>\n",
       "      <td>veri analiz edin chatgptyi kullanarak doğal di...</td>\n",
       "      <td>[0, 0, 0, 0, 0, 0, 0, 0, 0, 0, 0, 0, 0, 0, 0, ...</td>\n",
       "      <td>[0.0, 0.0, 0.0, 0.0, 0.0, 0.0, 0.0, 0.0, 0.0, ...</td>\n",
       "    </tr>\n",
       "    <tr>\n",
       "      <th>2</th>\n",
       "      <td>Öncelikle yapay zekanın ne olduğunu, #dijitala...</td>\n",
       "      <td>[öncelik, yapay, zeka, olduğunu, iç, önemli, o...</td>\n",
       "      <td>öncelik yapay zeka olduğunu iç önemli olduk kı...</td>\n",
       "      <td>[0, 0, 0, 0, 0, 0, 0, 0, 0, 0, 0, 0, 0, 0, 0, ...</td>\n",
       "      <td>[0.0, 0.0, 0.0, 0.0, 0.0, 0.0, 0.0, 0.0, 0.0, ...</td>\n",
       "    </tr>\n",
       "    <tr>\n",
       "      <th>3</th>\n",
       "      <td>9. Baidu Research: Çin'in önde gelen arama mot...</td>\n",
       "      <td>[baidu, research, çin, ön, gele, ara, motor, b...</td>\n",
       "      <td>baidu research çin ön gele ara motor baidun ar...</td>\n",
       "      <td>[0, 0, 0, 0, 0, 0, 0, 0, 0, 0, 0, 0, 0, 0, 0, ...</td>\n",
       "      <td>[0.0, 0.0, 0.0, 0.0, 0.0, 0.0, 0.0, 0.0, 0.0, ...</td>\n",
       "    </tr>\n",
       "    <tr>\n",
       "      <th>4</th>\n",
       "      <td>4. Microsoft AI: Microsoft'un yapay zeka tekno...</td>\n",
       "      <td>[microsoft, ai, microsoft, yapay, zeka, teknol...</td>\n",
       "      <td>microsoft ai microsoft yapay zeka teknoloji od...</td>\n",
       "      <td>[0, 0, 0, 0, 0, 0, 0, 0, 0, 0, 0, 0, 0, 0, 0, ...</td>\n",
       "      <td>[0.0, 0.0, 0.0, 0.0, 0.0, 0.0, 0.0, 0.0, 0.0, ...</td>\n",
       "    </tr>\n",
       "  </tbody>\n",
       "</table>\n",
       "</div>"
      ],
      "text/plain": [
       "                                                Text   \n",
       "0  Yapay Zeka Nedir, Ne İşe Yarar?\\n\\nYapay zeka ...  \\\n",
       "1  🔎 Verilerinizi analiz edin: \\nChatGPT'yi kulla...   \n",
       "2  Öncelikle yapay zekanın ne olduğunu, #dijitala...   \n",
       "3  9. Baidu Research: Çin'in önde gelen arama mot...   \n",
       "4  4. Microsoft AI: Microsoft'un yapay zeka tekno...   \n",
       "\n",
       "                                              Text_2   \n",
       "0  [yapay, zeka, nedir, işe, yarar, yapay, zeka, ...  \\\n",
       "1  [veri, analiz, edin, chatgptyi, kullanarak, do...   \n",
       "2  [öncelik, yapay, zeka, olduğunu, iç, önemli, o...   \n",
       "3  [baidu, research, çin, ön, gele, ara, motor, b...   \n",
       "4  [microsoft, ai, microsoft, yapay, zeka, teknol...   \n",
       "\n",
       "                                              Text_3   \n",
       "0  yapay zeka nedir işe yarar yapay zeka yz bilgi...  \\\n",
       "1  veri analiz edin chatgptyi kullanarak doğal di...   \n",
       "2  öncelik yapay zeka olduğunu iç önemli olduk kı...   \n",
       "3  baidu research çin ön gele ara motor baidun ar...   \n",
       "4  microsoft ai microsoft yapay zeka teknoloji od...   \n",
       "\n",
       "                                              Text_4   \n",
       "0  [0, 0, 0, 0, 0, 0, 0, 0, 0, 0, 0, 0, 0, 0, 0, ...  \\\n",
       "1  [0, 0, 0, 0, 0, 0, 0, 0, 0, 0, 0, 0, 0, 0, 0, ...   \n",
       "2  [0, 0, 0, 0, 0, 0, 0, 0, 0, 0, 0, 0, 0, 0, 0, ...   \n",
       "3  [0, 0, 0, 0, 0, 0, 0, 0, 0, 0, 0, 0, 0, 0, 0, ...   \n",
       "4  [0, 0, 0, 0, 0, 0, 0, 0, 0, 0, 0, 0, 0, 0, 0, ...   \n",
       "\n",
       "                                              Text_5  \n",
       "0  [0.0, 0.0, 0.0, 0.0, 0.0, 0.0, 0.0, 0.0, 0.0, ...  \n",
       "1  [0.0, 0.0, 0.0, 0.0, 0.0, 0.0, 0.0, 0.0, 0.0, ...  \n",
       "2  [0.0, 0.0, 0.0, 0.0, 0.0, 0.0, 0.0, 0.0, 0.0, ...  \n",
       "3  [0.0, 0.0, 0.0, 0.0, 0.0, 0.0, 0.0, 0.0, 0.0, ...  \n",
       "4  [0.0, 0.0, 0.0, 0.0, 0.0, 0.0, 0.0, 0.0, 0.0, ...  "
      ]
     },
     "execution_count": 22,
     "metadata": {},
     "output_type": "execute_result"
    }
   ],
   "source": [
    "df.head()"
   ]
  },
  {
   "cell_type": "code",
   "execution_count": 23,
   "id": "7298b2f6-a3a0-4d07-bd59-66e1542b97e1",
   "metadata": {},
   "outputs": [],
   "source": [
    "model = Word2Vec(sentences = df[\"Text_2\"].tolist(),vector_size=100,window=5,min_count=1)\n",
    "model.save(\"data/word2vec.model\")"
   ]
  },
  {
   "cell_type": "code",
   "execution_count": 24,
   "id": "7aa3aeaf-a159-4511-bfb4-82114de6fdab",
   "metadata": {},
   "outputs": [
    {
     "name": "stdout",
     "output_type": "stream",
     "text": [
      "Word2Vec<vocab=4796, vector_size=100, alpha=0.025>\n"
     ]
    }
   ],
   "source": [
    "print(model)"
   ]
  },
  {
   "cell_type": "code",
   "execution_count": 25,
   "id": "270a7019-9601-43ac-8fa2-f6b58dee8448",
   "metadata": {},
   "outputs": [
    {
     "data": {
      "text/plain": [
       "['dil', 'doğal', 'işle', 'yapay', 'zeka', 'il']"
      ]
     },
     "execution_count": 25,
     "metadata": {},
     "output_type": "execute_result"
    }
   ],
   "source": [
    "words = list(model.wv.index_to_key)\n",
    "words[0:6]"
   ]
  },
  {
   "cell_type": "code",
   "execution_count": 26,
   "id": "42245a63-527c-494e-a200-31cd120bf620",
   "metadata": {},
   "outputs": [
    {
     "data": {
      "text/plain": [
       "4796"
      ]
     },
     "execution_count": 26,
     "metadata": {},
     "output_type": "execute_result"
    }
   ],
   "source": [
    "len(words)"
   ]
  },
  {
   "cell_type": "code",
   "execution_count": 27,
   "id": "fd99b071-7b9d-4bd1-bcc9-f8139e3881a7",
   "metadata": {},
   "outputs": [
    {
     "data": {
      "text/html": [
       "<div>\n",
       "<style scoped>\n",
       "    .dataframe tbody tr th:only-of-type {\n",
       "        vertical-align: middle;\n",
       "    }\n",
       "\n",
       "    .dataframe tbody tr th {\n",
       "        vertical-align: top;\n",
       "    }\n",
       "\n",
       "    .dataframe thead th {\n",
       "        text-align: right;\n",
       "    }\n",
       "</style>\n",
       "<table border=\"1\" class=\"dataframe\">\n",
       "  <thead>\n",
       "    <tr style=\"text-align: right;\">\n",
       "      <th></th>\n",
       "      <th>Text</th>\n",
       "      <th>Text_2</th>\n",
       "      <th>Text_3</th>\n",
       "      <th>Text_4</th>\n",
       "      <th>Text_5</th>\n",
       "    </tr>\n",
       "  </thead>\n",
       "  <tbody>\n",
       "    <tr>\n",
       "      <th>0</th>\n",
       "      <td>Yapay Zeka Nedir, Ne İşe Yarar?\\n\\nYapay zeka ...</td>\n",
       "      <td>[yapay, zeka, nedir, işe, yarar, yapay, zeka, ...</td>\n",
       "      <td>yapay zeka nedir işe yarar yapay zeka yz bilgi...</td>\n",
       "      <td>[0, 0, 0, 0, 0, 0, 0, 0, 0, 0, 0, 0, 0, 0, 0, ...</td>\n",
       "      <td>[0.0, 0.0, 0.0, 0.0, 0.0, 0.0, 0.0, 0.0, 0.0, ...</td>\n",
       "    </tr>\n",
       "    <tr>\n",
       "      <th>1</th>\n",
       "      <td>🔎 Verilerinizi analiz edin: \\nChatGPT'yi kulla...</td>\n",
       "      <td>[veri, analiz, edin, chatgptyi, kullanarak, do...</td>\n",
       "      <td>veri analiz edin chatgptyi kullanarak doğal di...</td>\n",
       "      <td>[0, 0, 0, 0, 0, 0, 0, 0, 0, 0, 0, 0, 0, 0, 0, ...</td>\n",
       "      <td>[0.0, 0.0, 0.0, 0.0, 0.0, 0.0, 0.0, 0.0, 0.0, ...</td>\n",
       "    </tr>\n",
       "    <tr>\n",
       "      <th>2</th>\n",
       "      <td>Öncelikle yapay zekanın ne olduğunu, #dijitala...</td>\n",
       "      <td>[öncelik, yapay, zeka, olduğunu, iç, önemli, o...</td>\n",
       "      <td>öncelik yapay zeka olduğunu iç önemli olduk kı...</td>\n",
       "      <td>[0, 0, 0, 0, 0, 0, 0, 0, 0, 0, 0, 0, 0, 0, 0, ...</td>\n",
       "      <td>[0.0, 0.0, 0.0, 0.0, 0.0, 0.0, 0.0, 0.0, 0.0, ...</td>\n",
       "    </tr>\n",
       "    <tr>\n",
       "      <th>3</th>\n",
       "      <td>9. Baidu Research: Çin'in önde gelen arama mot...</td>\n",
       "      <td>[baidu, research, çin, ön, gele, ara, motor, b...</td>\n",
       "      <td>baidu research çin ön gele ara motor baidun ar...</td>\n",
       "      <td>[0, 0, 0, 0, 0, 0, 0, 0, 0, 0, 0, 0, 0, 0, 0, ...</td>\n",
       "      <td>[0.0, 0.0, 0.0, 0.0, 0.0, 0.0, 0.0, 0.0, 0.0, ...</td>\n",
       "    </tr>\n",
       "    <tr>\n",
       "      <th>4</th>\n",
       "      <td>4. Microsoft AI: Microsoft'un yapay zeka tekno...</td>\n",
       "      <td>[microsoft, ai, microsoft, yapay, zeka, teknol...</td>\n",
       "      <td>microsoft ai microsoft yapay zeka teknoloji od...</td>\n",
       "      <td>[0, 0, 0, 0, 0, 0, 0, 0, 0, 0, 0, 0, 0, 0, 0, ...</td>\n",
       "      <td>[0.0, 0.0, 0.0, 0.0, 0.0, 0.0, 0.0, 0.0, 0.0, ...</td>\n",
       "    </tr>\n",
       "    <tr>\n",
       "      <th>...</th>\n",
       "      <td>...</td>\n",
       "      <td>...</td>\n",
       "      <td>...</td>\n",
       "      <td>...</td>\n",
       "      <td>...</td>\n",
       "    </tr>\n",
       "    <tr>\n",
       "      <th>850</th>\n",
       "      <td>doğal dil işleme alanında yüksek lisans-doktor...</td>\n",
       "      <td>[doğal, dil, işle, alan, yük, lisansdoktor, ya...</td>\n",
       "      <td>doğal dil işle alan yük lisansdoktor yapa danı...</td>\n",
       "      <td>[0, 0, 0, 0, 0, 0, 0, 0, 0, 0, 0, 0, 0, 0, 0, ...</td>\n",
       "      <td>[0.0, 0.0, 0.0, 0.0, 0.0, 0.0, 0.0, 0.0, 0.0, ...</td>\n",
       "    </tr>\n",
       "    <tr>\n",
       "      <th>851</th>\n",
       "      <td>dogal dil isleme şeyleri</td>\n",
       "      <td>[dogal, dil, isle]</td>\n",
       "      <td>dogal dil isle</td>\n",
       "      <td>[0, 0, 0, 0, 0, 0, 0, 0, 0, 0, 0, 0, 0, 0, 0, ...</td>\n",
       "      <td>[0.0, 0.0, 0.0, 0.0, 0.0, 0.0, 0.0, 0.0, 0.0, ...</td>\n",
       "    </tr>\n",
       "    <tr>\n",
       "      <th>852</th>\n",
       "      <td>Bir veri madenciliği ve doğal dil işleme uygul...</td>\n",
       "      <td>[ver, madencilik, doğal, dil, işle, uygulamas]</td>\n",
       "      <td>ver madencilik doğal dil işle uygulamas</td>\n",
       "      <td>[0, 0, 0, 0, 0, 0, 0, 0, 0, 0, 0, 0, 0, 0, 0, ...</td>\n",
       "      <td>[0.0, 0.0, 0.0, 0.0, 0.0, 0.0, 0.0, 0.0, 0.0, ...</td>\n",
       "    </tr>\n",
       "    <tr>\n",
       "      <th>853</th>\n",
       "      <td>\"Doğal dil işleme\" ile ilgili deneyimi olan ya...</td>\n",
       "      <td>[doğal, dil, işleme, il, ilgil, deney, ola, ya...</td>\n",
       "      <td>doğal dil işleme il ilgil deney ola yazılımcı ...</td>\n",
       "      <td>[0, 0, 0, 0, 0, 0, 0, 0, 0, 0, 0, 0, 0, 0, 0, ...</td>\n",
       "      <td>[0.0, 0.0, 0.0, 0.0, 0.0, 0.0, 0.0, 0.0, 0.0, ...</td>\n",
       "    </tr>\n",
       "    <tr>\n",
       "      <th>854</th>\n",
       "      <td>Haftaya öğrencilik hayatıma kaldığım yerden de...</td>\n",
       "      <td>[hafta, öğrencilik, hayat, kaldık, yer, deva, ...</td>\n",
       "      <td>hafta öğrencilik hayat kaldık yer deva ediyoru...</td>\n",
       "      <td>[0, 0, 0, 0, 0, 0, 0, 0, 0, 0, 0, 0, 0, 0, 0, ...</td>\n",
       "      <td>[0.0, 0.0, 0.0, 0.0, 0.0, 0.0, 0.0, 0.0, 0.0, ...</td>\n",
       "    </tr>\n",
       "  </tbody>\n",
       "</table>\n",
       "<p>855 rows × 5 columns</p>\n",
       "</div>"
      ],
      "text/plain": [
       "                                                  Text   \n",
       "0    Yapay Zeka Nedir, Ne İşe Yarar?\\n\\nYapay zeka ...  \\\n",
       "1    🔎 Verilerinizi analiz edin: \\nChatGPT'yi kulla...   \n",
       "2    Öncelikle yapay zekanın ne olduğunu, #dijitala...   \n",
       "3    9. Baidu Research: Çin'in önde gelen arama mot...   \n",
       "4    4. Microsoft AI: Microsoft'un yapay zeka tekno...   \n",
       "..                                                 ...   \n",
       "850  doğal dil işleme alanında yüksek lisans-doktor...   \n",
       "851                           dogal dil isleme şeyleri   \n",
       "852  Bir veri madenciliği ve doğal dil işleme uygul...   \n",
       "853  \"Doğal dil işleme\" ile ilgili deneyimi olan ya...   \n",
       "854  Haftaya öğrencilik hayatıma kaldığım yerden de...   \n",
       "\n",
       "                                                Text_2   \n",
       "0    [yapay, zeka, nedir, işe, yarar, yapay, zeka, ...  \\\n",
       "1    [veri, analiz, edin, chatgptyi, kullanarak, do...   \n",
       "2    [öncelik, yapay, zeka, olduğunu, iç, önemli, o...   \n",
       "3    [baidu, research, çin, ön, gele, ara, motor, b...   \n",
       "4    [microsoft, ai, microsoft, yapay, zeka, teknol...   \n",
       "..                                                 ...   \n",
       "850  [doğal, dil, işle, alan, yük, lisansdoktor, ya...   \n",
       "851                                 [dogal, dil, isle]   \n",
       "852     [ver, madencilik, doğal, dil, işle, uygulamas]   \n",
       "853  [doğal, dil, işleme, il, ilgil, deney, ola, ya...   \n",
       "854  [hafta, öğrencilik, hayat, kaldık, yer, deva, ...   \n",
       "\n",
       "                                                Text_3   \n",
       "0    yapay zeka nedir işe yarar yapay zeka yz bilgi...  \\\n",
       "1    veri analiz edin chatgptyi kullanarak doğal di...   \n",
       "2    öncelik yapay zeka olduğunu iç önemli olduk kı...   \n",
       "3    baidu research çin ön gele ara motor baidun ar...   \n",
       "4    microsoft ai microsoft yapay zeka teknoloji od...   \n",
       "..                                                 ...   \n",
       "850  doğal dil işle alan yük lisansdoktor yapa danı...   \n",
       "851                                     dogal dil isle   \n",
       "852            ver madencilik doğal dil işle uygulamas   \n",
       "853  doğal dil işleme il ilgil deney ola yazılımcı ...   \n",
       "854  hafta öğrencilik hayat kaldık yer deva ediyoru...   \n",
       "\n",
       "                                                Text_4   \n",
       "0    [0, 0, 0, 0, 0, 0, 0, 0, 0, 0, 0, 0, 0, 0, 0, ...  \\\n",
       "1    [0, 0, 0, 0, 0, 0, 0, 0, 0, 0, 0, 0, 0, 0, 0, ...   \n",
       "2    [0, 0, 0, 0, 0, 0, 0, 0, 0, 0, 0, 0, 0, 0, 0, ...   \n",
       "3    [0, 0, 0, 0, 0, 0, 0, 0, 0, 0, 0, 0, 0, 0, 0, ...   \n",
       "4    [0, 0, 0, 0, 0, 0, 0, 0, 0, 0, 0, 0, 0, 0, 0, ...   \n",
       "..                                                 ...   \n",
       "850  [0, 0, 0, 0, 0, 0, 0, 0, 0, 0, 0, 0, 0, 0, 0, ...   \n",
       "851  [0, 0, 0, 0, 0, 0, 0, 0, 0, 0, 0, 0, 0, 0, 0, ...   \n",
       "852  [0, 0, 0, 0, 0, 0, 0, 0, 0, 0, 0, 0, 0, 0, 0, ...   \n",
       "853  [0, 0, 0, 0, 0, 0, 0, 0, 0, 0, 0, 0, 0, 0, 0, ...   \n",
       "854  [0, 0, 0, 0, 0, 0, 0, 0, 0, 0, 0, 0, 0, 0, 0, ...   \n",
       "\n",
       "                                                Text_5  \n",
       "0    [0.0, 0.0, 0.0, 0.0, 0.0, 0.0, 0.0, 0.0, 0.0, ...  \n",
       "1    [0.0, 0.0, 0.0, 0.0, 0.0, 0.0, 0.0, 0.0, 0.0, ...  \n",
       "2    [0.0, 0.0, 0.0, 0.0, 0.0, 0.0, 0.0, 0.0, 0.0, ...  \n",
       "3    [0.0, 0.0, 0.0, 0.0, 0.0, 0.0, 0.0, 0.0, 0.0, ...  \n",
       "4    [0.0, 0.0, 0.0, 0.0, 0.0, 0.0, 0.0, 0.0, 0.0, ...  \n",
       "..                                                 ...  \n",
       "850  [0.0, 0.0, 0.0, 0.0, 0.0, 0.0, 0.0, 0.0, 0.0, ...  \n",
       "851  [0.0, 0.0, 0.0, 0.0, 0.0, 0.0, 0.0, 0.0, 0.0, ...  \n",
       "852  [0.0, 0.0, 0.0, 0.0, 0.0, 0.0, 0.0, 0.0, 0.0, ...  \n",
       "853  [0.0, 0.0, 0.0, 0.0, 0.0, 0.0, 0.0, 0.0, 0.0, ...  \n",
       "854  [0.0, 0.0, 0.0, 0.0, 0.0, 0.0, 0.0, 0.0, 0.0, ...  \n",
       "\n",
       "[855 rows x 5 columns]"
      ]
     },
     "execution_count": 27,
     "metadata": {},
     "output_type": "execute_result"
    }
   ],
   "source": [
    "df"
   ]
  },
  {
   "cell_type": "code",
   "execution_count": 28,
   "id": "d71400fa-ba2d-4c23-bf48-ff4efa768279",
   "metadata": {},
   "outputs": [
    {
     "data": {
      "text/plain": [
       "72"
      ]
     },
     "execution_count": 28,
     "metadata": {},
     "output_type": "execute_result"
    }
   ],
   "source": [
    "model.wv.key_to_index[\"veri\"]"
   ]
  },
  {
   "cell_type": "code",
   "execution_count": 29,
   "id": "fc2e287a-8bdd-4eda-8205-9012cdaa0a39",
   "metadata": {},
   "outputs": [
    {
     "data": {
      "text/plain": [
       "array([-0.0359726 ,  0.05835258, -0.00106933, -0.01725595,  0.03124485,\n",
       "       -0.08890684,  0.01237564,  0.14638135, -0.05809391, -0.03751896,\n",
       "       -0.0027797 , -0.08743371,  0.00865212,  0.04664553,  0.00772293,\n",
       "       -0.03639779,  0.02557103, -0.06970003, -0.01468346, -0.14312507,\n",
       "        0.03405463, -0.00250089,  0.06558292, -0.0197032 ,  0.01104481,\n",
       "       -0.02712216, -0.01019308, -0.02108203, -0.05336391,  0.02670949,\n",
       "        0.07340274, -0.01898682,  0.02307308, -0.07474024, -0.00827813,\n",
       "        0.06529246,  0.03319442, -0.07050153, -0.03811983, -0.11094046,\n",
       "        0.02632783, -0.09241884, -0.0172481 , -0.00473863,  0.05901335,\n",
       "       -0.06093538, -0.0657845 , -0.01017089,  0.04358318,  0.036122  ,\n",
       "        0.01929949, -0.0540235 , -0.01681286,  0.00857799, -0.04252416,\n",
       "        0.01689193,  0.05033619, -0.04365506, -0.06246558,  0.0089919 ,\n",
       "        0.03304235,  0.01827257,  0.00735638,  0.01614707, -0.09169906,\n",
       "        0.09988613,  0.03415227,  0.05622312, -0.09486768,  0.08785593,\n",
       "       -0.02123778,  0.02171398,  0.0801409 ,  0.00175652,  0.08558991,\n",
       "        0.01925949,  0.02402996, -0.00928006, -0.07974917,  0.02093535,\n",
       "       -0.05190321, -0.02190652, -0.06445499,  0.08482622, -0.02766578,\n",
       "        0.00831145, -0.00186199,  0.04453619,  0.05786045,  0.03813749,\n",
       "        0.07793024,  0.0340203 ,  0.02456559, -0.00578341,  0.10913093,\n",
       "        0.07840619,  0.02526609, -0.07082192,  0.02777829, -0.02985362],\n",
       "      dtype=float32)"
      ]
     },
     "execution_count": 29,
     "metadata": {},
     "output_type": "execute_result"
    }
   ],
   "source": [
    "# model.wv[72]\n",
    "model.wv.get_vector(\"veri\")"
   ]
  },
  {
   "cell_type": "code",
   "execution_count": 30,
   "id": "e05b0efc-67c6-49a7-9377-033d2ce10d45",
   "metadata": {},
   "outputs": [],
   "source": [
    "def word2vec(value):\n",
    "    model = Word2Vec.load(\"data/word2vec.model\")\n",
    "    bfr_list = []\n",
    "    bfr_len = len(value)\n",
    "\n",
    "    for k in value:\n",
    "        bfr = model.wv.key_to_index[k]\n",
    "        bfr = model.wv[bfr]\n",
    "        bfr_list.append(bfr)\n",
    "\n",
    "    bfr_list = sum(bfr_list)\n",
    "    bfr_list = bfr_list/bfr_len\n",
    "    return bfr_list.tolist()"
   ]
  },
  {
   "cell_type": "code",
   "execution_count": 31,
   "id": "72da5d9d-d59e-4062-bd6f-ea1b04193d02",
   "metadata": {},
   "outputs": [],
   "source": [
    "df[\"Text_6\"] = df[\"Text_2\"].apply(word2vec)"
   ]
  },
  {
   "cell_type": "code",
   "execution_count": 32,
   "id": "8cd9865f-7c73-4335-807a-9d45ad915c54",
   "metadata": {},
   "outputs": [
    {
     "data": {
      "text/html": [
       "<div>\n",
       "<style scoped>\n",
       "    .dataframe tbody tr th:only-of-type {\n",
       "        vertical-align: middle;\n",
       "    }\n",
       "\n",
       "    .dataframe tbody tr th {\n",
       "        vertical-align: top;\n",
       "    }\n",
       "\n",
       "    .dataframe thead th {\n",
       "        text-align: right;\n",
       "    }\n",
       "</style>\n",
       "<table border=\"1\" class=\"dataframe\">\n",
       "  <thead>\n",
       "    <tr style=\"text-align: right;\">\n",
       "      <th></th>\n",
       "      <th>Text</th>\n",
       "      <th>Text_2</th>\n",
       "      <th>Text_3</th>\n",
       "      <th>Text_4</th>\n",
       "      <th>Text_5</th>\n",
       "      <th>Text_6</th>\n",
       "    </tr>\n",
       "  </thead>\n",
       "  <tbody>\n",
       "    <tr>\n",
       "      <th>0</th>\n",
       "      <td>Yapay Zeka Nedir, Ne İşe Yarar?\\n\\nYapay zeka ...</td>\n",
       "      <td>[yapay, zeka, nedir, işe, yarar, yapay, zeka, ...</td>\n",
       "      <td>yapay zeka nedir işe yarar yapay zeka yz bilgi...</td>\n",
       "      <td>[0, 0, 0, 0, 0, 0, 0, 0, 0, 0, 0, 0, 0, 0, 0, ...</td>\n",
       "      <td>[0.0, 0.0, 0.0, 0.0, 0.0, 0.0, 0.0, 0.0, 0.0, ...</td>\n",
       "      <td>[-0.036406490951776505, 0.06245415285229683, 0...</td>\n",
       "    </tr>\n",
       "    <tr>\n",
       "      <th>1</th>\n",
       "      <td>🔎 Verilerinizi analiz edin: \\nChatGPT'yi kulla...</td>\n",
       "      <td>[veri, analiz, edin, chatgptyi, kullanarak, do...</td>\n",
       "      <td>veri analiz edin chatgptyi kullanarak doğal di...</td>\n",
       "      <td>[0, 0, 0, 0, 0, 0, 0, 0, 0, 0, 0, 0, 0, 0, 0, ...</td>\n",
       "      <td>[0.0, 0.0, 0.0, 0.0, 0.0, 0.0, 0.0, 0.0, 0.0, ...</td>\n",
       "      <td>[-0.02866656705737114, 0.05037344619631767, 0....</td>\n",
       "    </tr>\n",
       "    <tr>\n",
       "      <th>2</th>\n",
       "      <td>Öncelikle yapay zekanın ne olduğunu, #dijitala...</td>\n",
       "      <td>[öncelik, yapay, zeka, olduğunu, iç, önemli, o...</td>\n",
       "      <td>öncelik yapay zeka olduğunu iç önemli olduk kı...</td>\n",
       "      <td>[0, 0, 0, 0, 0, 0, 0, 0, 0, 0, 0, 0, 0, 0, 0, ...</td>\n",
       "      <td>[0.0, 0.0, 0.0, 0.0, 0.0, 0.0, 0.0, 0.0, 0.0, ...</td>\n",
       "      <td>[-0.0329534113407135, 0.06281043589115143, 0.0...</td>\n",
       "    </tr>\n",
       "    <tr>\n",
       "      <th>3</th>\n",
       "      <td>9. Baidu Research: Çin'in önde gelen arama mot...</td>\n",
       "      <td>[baidu, research, çin, ön, gele, ara, motor, b...</td>\n",
       "      <td>baidu research çin ön gele ara motor baidun ar...</td>\n",
       "      <td>[0, 0, 0, 0, 0, 0, 0, 0, 0, 0, 0, 0, 0, 0, 0, ...</td>\n",
       "      <td>[0.0, 0.0, 0.0, 0.0, 0.0, 0.0, 0.0, 0.0, 0.0, ...</td>\n",
       "      <td>[-0.029977500438690186, 0.052904099225997925, ...</td>\n",
       "    </tr>\n",
       "    <tr>\n",
       "      <th>4</th>\n",
       "      <td>4. Microsoft AI: Microsoft'un yapay zeka tekno...</td>\n",
       "      <td>[microsoft, ai, microsoft, yapay, zeka, teknol...</td>\n",
       "      <td>microsoft ai microsoft yapay zeka teknoloji od...</td>\n",
       "      <td>[0, 0, 0, 0, 0, 0, 0, 0, 0, 0, 0, 0, 0, 0, 0, ...</td>\n",
       "      <td>[0.0, 0.0, 0.0, 0.0, 0.0, 0.0, 0.0, 0.0, 0.0, ...</td>\n",
       "      <td>[-0.042177993804216385, 0.07365737855434418, 0...</td>\n",
       "    </tr>\n",
       "  </tbody>\n",
       "</table>\n",
       "</div>"
      ],
      "text/plain": [
       "                                                Text   \n",
       "0  Yapay Zeka Nedir, Ne İşe Yarar?\\n\\nYapay zeka ...  \\\n",
       "1  🔎 Verilerinizi analiz edin: \\nChatGPT'yi kulla...   \n",
       "2  Öncelikle yapay zekanın ne olduğunu, #dijitala...   \n",
       "3  9. Baidu Research: Çin'in önde gelen arama mot...   \n",
       "4  4. Microsoft AI: Microsoft'un yapay zeka tekno...   \n",
       "\n",
       "                                              Text_2   \n",
       "0  [yapay, zeka, nedir, işe, yarar, yapay, zeka, ...  \\\n",
       "1  [veri, analiz, edin, chatgptyi, kullanarak, do...   \n",
       "2  [öncelik, yapay, zeka, olduğunu, iç, önemli, o...   \n",
       "3  [baidu, research, çin, ön, gele, ara, motor, b...   \n",
       "4  [microsoft, ai, microsoft, yapay, zeka, teknol...   \n",
       "\n",
       "                                              Text_3   \n",
       "0  yapay zeka nedir işe yarar yapay zeka yz bilgi...  \\\n",
       "1  veri analiz edin chatgptyi kullanarak doğal di...   \n",
       "2  öncelik yapay zeka olduğunu iç önemli olduk kı...   \n",
       "3  baidu research çin ön gele ara motor baidun ar...   \n",
       "4  microsoft ai microsoft yapay zeka teknoloji od...   \n",
       "\n",
       "                                              Text_4   \n",
       "0  [0, 0, 0, 0, 0, 0, 0, 0, 0, 0, 0, 0, 0, 0, 0, ...  \\\n",
       "1  [0, 0, 0, 0, 0, 0, 0, 0, 0, 0, 0, 0, 0, 0, 0, ...   \n",
       "2  [0, 0, 0, 0, 0, 0, 0, 0, 0, 0, 0, 0, 0, 0, 0, ...   \n",
       "3  [0, 0, 0, 0, 0, 0, 0, 0, 0, 0, 0, 0, 0, 0, 0, ...   \n",
       "4  [0, 0, 0, 0, 0, 0, 0, 0, 0, 0, 0, 0, 0, 0, 0, ...   \n",
       "\n",
       "                                              Text_5   \n",
       "0  [0.0, 0.0, 0.0, 0.0, 0.0, 0.0, 0.0, 0.0, 0.0, ...  \\\n",
       "1  [0.0, 0.0, 0.0, 0.0, 0.0, 0.0, 0.0, 0.0, 0.0, ...   \n",
       "2  [0.0, 0.0, 0.0, 0.0, 0.0, 0.0, 0.0, 0.0, 0.0, ...   \n",
       "3  [0.0, 0.0, 0.0, 0.0, 0.0, 0.0, 0.0, 0.0, 0.0, ...   \n",
       "4  [0.0, 0.0, 0.0, 0.0, 0.0, 0.0, 0.0, 0.0, 0.0, ...   \n",
       "\n",
       "                                              Text_6  \n",
       "0  [-0.036406490951776505, 0.06245415285229683, 0...  \n",
       "1  [-0.02866656705737114, 0.05037344619631767, 0....  \n",
       "2  [-0.0329534113407135, 0.06281043589115143, 0.0...  \n",
       "3  [-0.029977500438690186, 0.052904099225997925, ...  \n",
       "4  [-0.042177993804216385, 0.07365737855434418, 0...  "
      ]
     },
     "execution_count": 32,
     "metadata": {},
     "output_type": "execute_result"
    }
   ],
   "source": [
    "df.head()"
   ]
  },
  {
   "cell_type": "code",
   "execution_count": 33,
   "id": "6b6e4913-062a-43ee-9e47-7040195c3e4b",
   "metadata": {},
   "outputs": [],
   "source": [
    "df[\"word2vec\"] = df[\"Text_2\"].apply(nlp_Melih_Utku_BALA.word2vec)"
   ]
  },
  {
   "cell_type": "code",
   "execution_count": 34,
   "id": "ec115652-6398-4146-9892-4d793c2fadb4",
   "metadata": {},
   "outputs": [
    {
     "data": {
      "text/html": [
       "<div>\n",
       "<style scoped>\n",
       "    .dataframe tbody tr th:only-of-type {\n",
       "        vertical-align: middle;\n",
       "    }\n",
       "\n",
       "    .dataframe tbody tr th {\n",
       "        vertical-align: top;\n",
       "    }\n",
       "\n",
       "    .dataframe thead th {\n",
       "        text-align: right;\n",
       "    }\n",
       "</style>\n",
       "<table border=\"1\" class=\"dataframe\">\n",
       "  <thead>\n",
       "    <tr style=\"text-align: right;\">\n",
       "      <th></th>\n",
       "      <th>Text</th>\n",
       "      <th>Text_2</th>\n",
       "      <th>Text_3</th>\n",
       "      <th>Text_4</th>\n",
       "      <th>Text_5</th>\n",
       "      <th>Text_6</th>\n",
       "      <th>word2vec</th>\n",
       "    </tr>\n",
       "  </thead>\n",
       "  <tbody>\n",
       "    <tr>\n",
       "      <th>0</th>\n",
       "      <td>Yapay Zeka Nedir, Ne İşe Yarar?\\n\\nYapay zeka ...</td>\n",
       "      <td>[yapay, zeka, nedir, işe, yarar, yapay, zeka, ...</td>\n",
       "      <td>yapay zeka nedir işe yarar yapay zeka yz bilgi...</td>\n",
       "      <td>[0, 0, 0, 0, 0, 0, 0, 0, 0, 0, 0, 0, 0, 0, 0, ...</td>\n",
       "      <td>[0.0, 0.0, 0.0, 0.0, 0.0, 0.0, 0.0, 0.0, 0.0, ...</td>\n",
       "      <td>[-0.036406490951776505, 0.06245415285229683, 0...</td>\n",
       "      <td>[-0.036406490951776505, 0.06245415285229683, 0...</td>\n",
       "    </tr>\n",
       "    <tr>\n",
       "      <th>1</th>\n",
       "      <td>🔎 Verilerinizi analiz edin: \\nChatGPT'yi kulla...</td>\n",
       "      <td>[veri, analiz, edin, chatgptyi, kullanarak, do...</td>\n",
       "      <td>veri analiz edin chatgptyi kullanarak doğal di...</td>\n",
       "      <td>[0, 0, 0, 0, 0, 0, 0, 0, 0, 0, 0, 0, 0, 0, 0, ...</td>\n",
       "      <td>[0.0, 0.0, 0.0, 0.0, 0.0, 0.0, 0.0, 0.0, 0.0, ...</td>\n",
       "      <td>[-0.02866656705737114, 0.05037344619631767, 0....</td>\n",
       "      <td>[-0.02866656705737114, 0.05037344619631767, 0....</td>\n",
       "    </tr>\n",
       "    <tr>\n",
       "      <th>2</th>\n",
       "      <td>Öncelikle yapay zekanın ne olduğunu, #dijitala...</td>\n",
       "      <td>[öncelik, yapay, zeka, olduğunu, iç, önemli, o...</td>\n",
       "      <td>öncelik yapay zeka olduğunu iç önemli olduk kı...</td>\n",
       "      <td>[0, 0, 0, 0, 0, 0, 0, 0, 0, 0, 0, 0, 0, 0, 0, ...</td>\n",
       "      <td>[0.0, 0.0, 0.0, 0.0, 0.0, 0.0, 0.0, 0.0, 0.0, ...</td>\n",
       "      <td>[-0.0329534113407135, 0.06281043589115143, 0.0...</td>\n",
       "      <td>[-0.0329534113407135, 0.06281043589115143, 0.0...</td>\n",
       "    </tr>\n",
       "    <tr>\n",
       "      <th>3</th>\n",
       "      <td>9. Baidu Research: Çin'in önde gelen arama mot...</td>\n",
       "      <td>[baidu, research, çin, ön, gele, ara, motor, b...</td>\n",
       "      <td>baidu research çin ön gele ara motor baidun ar...</td>\n",
       "      <td>[0, 0, 0, 0, 0, 0, 0, 0, 0, 0, 0, 0, 0, 0, 0, ...</td>\n",
       "      <td>[0.0, 0.0, 0.0, 0.0, 0.0, 0.0, 0.0, 0.0, 0.0, ...</td>\n",
       "      <td>[-0.029977500438690186, 0.052904099225997925, ...</td>\n",
       "      <td>[-0.029977500438690186, 0.052904099225997925, ...</td>\n",
       "    </tr>\n",
       "    <tr>\n",
       "      <th>4</th>\n",
       "      <td>4. Microsoft AI: Microsoft'un yapay zeka tekno...</td>\n",
       "      <td>[microsoft, ai, microsoft, yapay, zeka, teknol...</td>\n",
       "      <td>microsoft ai microsoft yapay zeka teknoloji od...</td>\n",
       "      <td>[0, 0, 0, 0, 0, 0, 0, 0, 0, 0, 0, 0, 0, 0, 0, ...</td>\n",
       "      <td>[0.0, 0.0, 0.0, 0.0, 0.0, 0.0, 0.0, 0.0, 0.0, ...</td>\n",
       "      <td>[-0.042177993804216385, 0.07365737855434418, 0...</td>\n",
       "      <td>[-0.042177993804216385, 0.07365737855434418, 0...</td>\n",
       "    </tr>\n",
       "  </tbody>\n",
       "</table>\n",
       "</div>"
      ],
      "text/plain": [
       "                                                Text   \n",
       "0  Yapay Zeka Nedir, Ne İşe Yarar?\\n\\nYapay zeka ...  \\\n",
       "1  🔎 Verilerinizi analiz edin: \\nChatGPT'yi kulla...   \n",
       "2  Öncelikle yapay zekanın ne olduğunu, #dijitala...   \n",
       "3  9. Baidu Research: Çin'in önde gelen arama mot...   \n",
       "4  4. Microsoft AI: Microsoft'un yapay zeka tekno...   \n",
       "\n",
       "                                              Text_2   \n",
       "0  [yapay, zeka, nedir, işe, yarar, yapay, zeka, ...  \\\n",
       "1  [veri, analiz, edin, chatgptyi, kullanarak, do...   \n",
       "2  [öncelik, yapay, zeka, olduğunu, iç, önemli, o...   \n",
       "3  [baidu, research, çin, ön, gele, ara, motor, b...   \n",
       "4  [microsoft, ai, microsoft, yapay, zeka, teknol...   \n",
       "\n",
       "                                              Text_3   \n",
       "0  yapay zeka nedir işe yarar yapay zeka yz bilgi...  \\\n",
       "1  veri analiz edin chatgptyi kullanarak doğal di...   \n",
       "2  öncelik yapay zeka olduğunu iç önemli olduk kı...   \n",
       "3  baidu research çin ön gele ara motor baidun ar...   \n",
       "4  microsoft ai microsoft yapay zeka teknoloji od...   \n",
       "\n",
       "                                              Text_4   \n",
       "0  [0, 0, 0, 0, 0, 0, 0, 0, 0, 0, 0, 0, 0, 0, 0, ...  \\\n",
       "1  [0, 0, 0, 0, 0, 0, 0, 0, 0, 0, 0, 0, 0, 0, 0, ...   \n",
       "2  [0, 0, 0, 0, 0, 0, 0, 0, 0, 0, 0, 0, 0, 0, 0, ...   \n",
       "3  [0, 0, 0, 0, 0, 0, 0, 0, 0, 0, 0, 0, 0, 0, 0, ...   \n",
       "4  [0, 0, 0, 0, 0, 0, 0, 0, 0, 0, 0, 0, 0, 0, 0, ...   \n",
       "\n",
       "                                              Text_5   \n",
       "0  [0.0, 0.0, 0.0, 0.0, 0.0, 0.0, 0.0, 0.0, 0.0, ...  \\\n",
       "1  [0.0, 0.0, 0.0, 0.0, 0.0, 0.0, 0.0, 0.0, 0.0, ...   \n",
       "2  [0.0, 0.0, 0.0, 0.0, 0.0, 0.0, 0.0, 0.0, 0.0, ...   \n",
       "3  [0.0, 0.0, 0.0, 0.0, 0.0, 0.0, 0.0, 0.0, 0.0, ...   \n",
       "4  [0.0, 0.0, 0.0, 0.0, 0.0, 0.0, 0.0, 0.0, 0.0, ...   \n",
       "\n",
       "                                              Text_6   \n",
       "0  [-0.036406490951776505, 0.06245415285229683, 0...  \\\n",
       "1  [-0.02866656705737114, 0.05037344619631767, 0....   \n",
       "2  [-0.0329534113407135, 0.06281043589115143, 0.0...   \n",
       "3  [-0.029977500438690186, 0.052904099225997925, ...   \n",
       "4  [-0.042177993804216385, 0.07365737855434418, 0...   \n",
       "\n",
       "                                            word2vec  \n",
       "0  [-0.036406490951776505, 0.06245415285229683, 0...  \n",
       "1  [-0.02866656705737114, 0.05037344619631767, 0....  \n",
       "2  [-0.0329534113407135, 0.06281043589115143, 0.0...  \n",
       "3  [-0.029977500438690186, 0.052904099225997925, ...  \n",
       "4  [-0.042177993804216385, 0.07365737855434418, 0...  "
      ]
     },
     "execution_count": 34,
     "metadata": {},
     "output_type": "execute_result"
    }
   ],
   "source": [
    "df.head()"
   ]
  },
  {
   "cell_type": "code",
   "execution_count": null,
   "id": "72ef011c-42ee-4e2c-8c63-665b683aa7ce",
   "metadata": {},
   "outputs": [],
   "source": []
  }
 ],
 "metadata": {
  "kernelspec": {
   "display_name": "Python 3 (ipykernel)",
   "language": "python",
   "name": "python3"
  },
  "language_info": {
   "codemirror_mode": {
    "name": "ipython",
    "version": 3
   },
   "file_extension": ".py",
   "mimetype": "text/x-python",
   "name": "python",
   "nbconvert_exporter": "python",
   "pygments_lexer": "ipython3",
   "version": "3.10.10"
  }
 },
 "nbformat": 4,
 "nbformat_minor": 5
}
