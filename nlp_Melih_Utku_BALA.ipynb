{
 "cells": [
  {
   "cell_type": "code",
   "execution_count": 1,
   "id": "7ca2ee22-e961-491e-a355-bb3a5c2cfe4a",
   "metadata": {},
   "outputs": [],
   "source": [
    "### kütüphaneleri tanımlayınız. ### \n",
    "import pandas as pd\n",
    "import re\n",
    "import snowballstemmer\n",
    "#from gensim.models import Word2Vec"
   ]
  },
  {
   "cell_type": "code",
   "execution_count": 2,
   "id": "c27b03b2-ee1f-438e-944d-fa549c8ed6f9",
   "metadata": {},
   "outputs": [],
   "source": [
    "df = pd.read_csv(\"data/nlp.csv\")"
   ]
  },
  {
   "cell_type": "code",
   "execution_count": 14,
   "id": "11d9cb74-3b9c-4e39-aa06-61f8fbbe4797",
   "metadata": {},
   "outputs": [],
   "source": [
    "# numerik karakterlerin kaldırılması\n",
    "def remove_numeric(value):\n",
    "    bfr = [item for item in value if not item.isdigit()]\n",
    "    bfr = \"\".join(bfr)\n",
    "    return bfr "
   ]
  },
  {
   "cell_type": "code",
   "execution_count": 4,
   "id": "08c17c28-3f1e-4c6d-98de-53c5eb047030",
   "metadata": {},
   "outputs": [],
   "source": [
    "# emojilerin kaldırılması\n",
    "def remove_emoji(value):\n",
    "    bfr = re.compile(\"[\\U00010000-\\U0010ffff]\",flags = re.UNICODE)\n",
    "    bfr = bfr.sub(r'',value)\n",
    "    return bfr"
   ]
  },
  {
   "cell_type": "code",
   "execution_count": 5,
   "id": "2cd15b3b-2840-4887-b085-8e17382042cf",
   "metadata": {},
   "outputs": [],
   "source": [
    "#noktalama işaretlerinin kaldırılması\n",
    "def remove_noktalama(value):\n",
    "    return re.sub(r'[^\\w\\s]','',value)"
   ]
  },
  {
   "cell_type": "code",
   "execution_count": 6,
   "id": "46bf1c0e-277a-4f9a-bd34-e812360f246a",
   "metadata": {},
   "outputs": [],
   "source": [
    "#tek karakterli ifadelerin kaldırılması\n",
    "def remove_single_chracter(value):\n",
    "    return re.sub(r'(?:^| )\\w(?:$| )','',value)"
   ]
  },
  {
   "cell_type": "code",
   "execution_count": 7,
   "id": "03a4f8fa-6026-4c16-9c87-333894eadb90",
   "metadata": {},
   "outputs": [],
   "source": [
    "#linklerin kaldırılması \n",
    "def remove_link(value):\n",
    "    return re.sub('((www\\.[^\\s]+)|(https?://[^\\s]+))','',value)"
   ]
  },
  {
   "cell_type": "code",
   "execution_count": 8,
   "id": "7e8a4fbe-8391-4c93-bf76-3ab3d4880b65",
   "metadata": {},
   "outputs": [],
   "source": [
    "# hashtaglerin kaldırılması\n",
    "def remove_hashtag(value):\n",
    "    return re.sub(r'#[^\\s]+','',value)"
   ]
  },
  {
   "cell_type": "code",
   "execution_count": 9,
   "id": "ed6c5fad-6e18-4b19-bb81-e8d649481c40",
   "metadata": {},
   "outputs": [],
   "source": [
    "# kullanıcı adlarının kaldırılması\n",
    "def remove_username(value):\n",
    "    return re.sub(r'@[^\\s]+','',value)"
   ]
  },
  {
   "cell_type": "code",
   "execution_count": 10,
   "id": "0a8d1e54-0341-481b-a6db-4ed0f2a6e2cc",
   "metadata": {},
   "outputs": [],
   "source": [
    "#kök indirgeme ve stop words işlemleri\n",
    "def stem_word(value):\n",
    "    stemmer = snowballstemmer.stemmer('turkish')\n",
    "    value = value.lower()\n",
    "    value = stemmer.stemWords(value.split())\n",
    "    stop_words = [\"acaba\",\"ama\",\"aslında\",\"az\",\"bazı\",\"belki\",\"biri\",\"birkaç\",\"birşey\",\"biz\",\"bu\",\"çok\",\n",
    "                 \"çünkü\",\"da\",\"de\",\"daha\",\"defa\",\"diye\",\"eğer\",\"en\",\"gibi\",\"hep\",\"hem\",\"hepsi\",\"her\",\n",
    "                 \"hiç\",\"için\",\"ile\",\"ise\",\"kez\",\"ki\",\"kim\",\"mi\",\"mı\",\"mu\",\"mü\",\"nasıl\",\"ne\",\"neden\",\"nerde\",\n",
    "                 \"nerede\",\"nereye\",\"niçin\",\"niye\",\"o\",\"sanki\",\"şey\",\"siz\",\"şu\",\"tüm\",\"ve\",\"veya\",\"ya\",\"yani\"\n",
    "                 ,\"bir\",\"iki\",\"üç\",\"dört\",\"beş\",\"altı\",\"yedi\",\"sekiz\",\"dokuz\",\"on\"]\n",
    "    value = [item for item in value if not item in stop_words]\n",
    "    value = \"\".join(value)\n",
    "    return value"
   ]
  },
  {
   "cell_type": "code",
   "execution_count": 11,
   "id": "7620f6c4-162b-4c58-b808-c6bce90d1cc7",
   "metadata": {},
   "outputs": [],
   "source": [
    "# ön işlem fonksiyonlarının sırayla çağırılması\n",
    "def pre_processing(value):\n",
    "    return [remove_numeric(remove_emoji\n",
    "                          (remove_single_chracter\n",
    "                           (remove_noktalama\n",
    "                            (remove_link\n",
    "                             (remove_hashtag\n",
    "                              (remove_username\n",
    "                               (stem_word(word)))))))) for word in value.split()]"
   ]
  },
  {
   "cell_type": "code",
   "execution_count": 16,
   "id": "ec015181-7261-4828-ba6a-aff38f7d59d6",
   "metadata": {},
   "outputs": [],
   "source": [
    "df[\"Text_2\"] = df[\"Text\"].apply(pre_processing)"
   ]
  },
  {
   "cell_type": "code",
   "execution_count": null,
   "id": "ca12e3d9-7af5-4a6f-863c-32f9bd48ec7c",
   "metadata": {},
   "outputs": [],
   "source": [
    "df.lo"
   ]
  }
 ],
 "metadata": {
  "kernelspec": {
   "display_name": "Python 3 (ipykernel)",
   "language": "python",
   "name": "python3"
  },
  "language_info": {
   "codemirror_mode": {
    "name": "ipython",
    "version": 3
   },
   "file_extension": ".py",
   "mimetype": "text/x-python",
   "name": "python",
   "nbconvert_exporter": "python",
   "pygments_lexer": "ipython3",
   "version": "3.10.10"
  }
 },
 "nbformat": 4,
 "nbformat_minor": 5
}
