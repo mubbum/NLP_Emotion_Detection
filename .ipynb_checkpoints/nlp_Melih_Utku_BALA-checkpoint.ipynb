{
 "cells": [
  {
   "cell_type": "code",
   "execution_count": 4,
   "id": "7ca2ee22-e961-491e-a355-bb3a5c2cfe4a",
   "metadata": {},
   "outputs": [],
   "source": [
    "### kütüphaneleri tanımlayınız. ### \n",
    "import pandas as pd\n",
    "import re\n",
    "import snowballstemmer\n",
    "#from gensim.models import Word2Vec"
   ]
  },
  {
   "cell_type": "code",
   "execution_count": 2,
   "id": "c27b03b2-ee1f-438e-944d-fa549c8ed6f9",
   "metadata": {},
   "outputs": [],
   "source": [
    "df = pd.read_csv(\"data/nlp.csv\")"
   ]
  },
  {
   "cell_type": "code",
   "execution_count": 3,
   "id": "11d9cb74-3b9c-4e39-aa06-61f8fbbe4797",
   "metadata": {},
   "outputs": [],
   "source": [
    "# numerik karakterlerin kaldırılması\n",
    "def remove_numeric(value):\n",
    "    bfr = [item for item in value if not item.isdigit()]\n",
    "    print(bfr)\n",
    "    bfr = \"\".join(bfr)\n",
    "    return bfr "
   ]
  },
  {
   "cell_type": "code",
   "execution_count": 8,
   "id": "08c17c28-3f1e-4c6d-98de-53c5eb047030",
   "metadata": {},
   "outputs": [],
   "source": [
    "# emojilerin kaldırılması\n",
    "def remove_emoji(value):\n",
    "    bfr = re.compile(\"[\\U00010000-\\U0010ffff]\",flags = re.UNICODE)\n",
    "    bfr = bfr.sub(r'',value)\n",
    "    return bfr"
   ]
  },
  {
   "cell_type": "code",
   "execution_count": null,
   "id": "2cd15b3b-2840-4887-b085-8e17382042cf",
   "metadata": {},
   "outputs": [],
   "source": []
  }
 ],
 "metadata": {
  "kernelspec": {
   "display_name": "Python 3 (ipykernel)",
   "language": "python",
   "name": "python3"
  },
  "language_info": {
   "codemirror_mode": {
    "name": "ipython",
    "version": 3
   },
   "file_extension": ".py",
   "mimetype": "text/x-python",
   "name": "python",
   "nbconvert_exporter": "python",
   "pygments_lexer": "ipython3",
   "version": "3.10.10"
  }
 },
 "nbformat": 4,
 "nbformat_minor": 5
}
