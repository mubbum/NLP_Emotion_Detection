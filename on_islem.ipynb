{
 "cells": [
  {
   "cell_type": "code",
   "execution_count": 20,
   "id": "7ca2ee22-e961-491e-a355-bb3a5c2cfe4a",
   "metadata": {},
   "outputs": [],
   "source": [
    "### kütüphaneleri tanımlayınız. ### \n",
    "import pandas as pd\n",
    "import re\n",
    "import snowballstemmer"
   ]
  },
  {
   "cell_type": "code",
   "execution_count": 2,
   "id": "c27b03b2-ee1f-438e-944d-fa549c8ed6f9",
   "metadata": {},
   "outputs": [],
   "source": [
    "df = pd.read_csv(\"data/nlp.csv\")"
   ]
  },
  {
   "cell_type": "code",
   "execution_count": 3,
   "id": "11d9cb74-3b9c-4e39-aa06-61f8fbbe4797",
   "metadata": {},
   "outputs": [],
   "source": [
    "# numerik karakterlerin kaldırılması\n",
    "def remove_numeric(value):\n",
    "    bfr = [item for item in value if not item.isdigit()]\n",
    "    bfr = \"\".join(bfr)\n",
    "    return bfr "
   ]
  },
  {
   "cell_type": "code",
   "execution_count": 4,
   "id": "08c17c28-3f1e-4c6d-98de-53c5eb047030",
   "metadata": {},
   "outputs": [],
   "source": [
    "# emojilerin kaldırılması\n",
    "def remove_emoji(value):\n",
    "    bfr = re.compile(\"[\\U00010000-\\U0010ffff]\",flags = re.UNICODE)\n",
    "    bfr = bfr.sub(r'',value)\n",
    "    return bfr"
   ]
  },
  {
   "cell_type": "code",
   "execution_count": 5,
   "id": "2cd15b3b-2840-4887-b085-8e17382042cf",
   "metadata": {},
   "outputs": [],
   "source": [
    "#noktalama işaretlerinin kaldırılması\n",
    "def remove_noktalama(value):\n",
    "    return re.sub(r'[^\\w\\s]','',value)"
   ]
  },
  {
   "cell_type": "code",
   "execution_count": 6,
   "id": "46bf1c0e-277a-4f9a-bd34-e812360f246a",
   "metadata": {},
   "outputs": [],
   "source": [
    "#tek karakterli ifadelerin kaldırılması\n",
    "def remove_single_chracter(value):\n",
    "    return re.sub(r'(?:^| )\\w(?:$| )','',value)"
   ]
  },
  {
   "cell_type": "code",
   "execution_count": 7,
   "id": "03a4f8fa-6026-4c16-9c87-333894eadb90",
   "metadata": {},
   "outputs": [],
   "source": [
    "#linklerin kaldırılması \n",
    "def remove_link(value):\n",
    "    return re.sub('((www\\.[^\\s]+)|(https?://[^\\s]+))','',value)"
   ]
  },
  {
   "cell_type": "code",
   "execution_count": 8,
   "id": "7e8a4fbe-8391-4c93-bf76-3ab3d4880b65",
   "metadata": {},
   "outputs": [],
   "source": [
    "# hashtaglerin kaldırılması\n",
    "def remove_hashtag(value):\n",
    "    return re.sub(r'#[^\\s]+','',value)"
   ]
  },
  {
   "cell_type": "code",
   "execution_count": 9,
   "id": "ed6c5fad-6e18-4b19-bb81-e8d649481c40",
   "metadata": {},
   "outputs": [],
   "source": [
    "# kullanıcı adlarının kaldırılması\n",
    "def remove_username(value):\n",
    "    return re.sub(r'@[^\\s]+','',value)"
   ]
  },
  {
   "cell_type": "code",
   "execution_count": 10,
   "id": "0a8d1e54-0341-481b-a6db-4ed0f2a6e2cc",
   "metadata": {},
   "outputs": [],
   "source": [
    "#kök indirgeme ve stop words işlemleri\n",
    "def stem_word(value):\n",
    "    stemmer = snowballstemmer.stemmer('turkish')\n",
    "    value = value.lower()\n",
    "    value = stemmer.stemWords(value.split())\n",
    "    stop_words = [\"acaba\",\"ama\",\"aslında\",\"az\",\"bazı\",\"belki\",\"biri\",\"birkaç\",\"birşey\",\"biz\",\"bu\",\"çok\",\n",
    "                 \"çünkü\",\"da\",\"de\",\"daha\",\"defa\",\"diye\",\"eğer\",\"en\",\"gibi\",\"hep\",\"hem\",\"hepsi\",\"her\",\n",
    "                 \"hiç\",\"için\",\"ile\",\"ise\",\"kez\",\"ki\",\"kim\",\"mi\",\"mı\",\"mu\",\"mü\",\"nasıl\",\"ne\",\"neden\",\"nerde\",\n",
    "                 \"nerede\",\"nereye\",\"niçin\",\"niye\",\"o\",\"sanki\",\"şey\",\"siz\",\"şu\",\"tüm\",\"ve\",\"veya\",\"ya\",\"yani\"\n",
    "                 ,\"bir\",\"iki\",\"üç\",\"dört\",\"beş\",\"altı\",\"yedi\",\"sekiz\",\"dokuz\",\"on\"]\n",
    "    value = [item for item in value if not item in stop_words]\n",
    "    value = \"\".join(value)\n",
    "    return value"
   ]
  },
  {
   "cell_type": "code",
   "execution_count": 11,
   "id": "7620f6c4-162b-4c58-b808-c6bce90d1cc7",
   "metadata": {},
   "outputs": [],
   "source": [
    "# ön işlem fonksiyonlarının sırayla çağırılması\n",
    "def pre_processing(value):\n",
    "    return [remove_numeric(remove_emoji\n",
    "                          (remove_single_chracter\n",
    "                           (remove_noktalama\n",
    "                            (remove_link\n",
    "                             (remove_hashtag\n",
    "                              (remove_username\n",
    "                               (stem_word(word)))))))) for word in value.split()]"
   ]
  },
  {
   "cell_type": "code",
   "execution_count": 12,
   "id": "ec015181-7261-4828-ba6a-aff38f7d59d6",
   "metadata": {},
   "outputs": [],
   "source": [
    "df[\"Text_2\"] = df[\"Text\"].apply(pre_processing)"
   ]
  },
  {
   "cell_type": "code",
   "execution_count": 13,
   "id": "ca12e3d9-7af5-4a6f-863c-32f9bd48ec7c",
   "metadata": {},
   "outputs": [
    {
     "data": {
      "text/plain": [
       "'Yapay Zeka Nedir, Ne İşe Yarar?\\n\\nYapay zeka (YZ) bilgisayarlar ve diğer cihazların, insan zekasına benzer şekilde düşünmesini, öğrenmesini, kararlar vermesini ve problem çözmesini sağlayan bir bilim dalıdır. Yapay zeka teknolojisi, doğal dil işleme, ses tanıma, görüntü işleme,… https://t.co/nDH7iGOdFe'"
      ]
     },
     "execution_count": 13,
     "metadata": {},
     "output_type": "execute_result"
    }
   ],
   "source": [
    "df.loc[0,'Text']"
   ]
  },
  {
   "cell_type": "code",
   "execution_count": 14,
   "id": "2f710575-eaca-41ee-b81a-8ce576ba8e2c",
   "metadata": {},
   "outputs": [
    {
     "data": {
      "text/plain": [
       "['yapay',\n",
       " 'zeka',\n",
       " 'nedir',\n",
       " '',\n",
       " 'işe',\n",
       " 'yarar',\n",
       " 'yapay',\n",
       " 'zeka',\n",
       " 'yz',\n",
       " 'bilgisayar',\n",
       " '',\n",
       " 'diğer',\n",
       " 'cihazların',\n",
       " 'in',\n",
       " 'zeka',\n",
       " 'benzer',\n",
       " 'şekil',\n",
       " 'düşünmesini',\n",
       " 'öğrenmesini',\n",
       " 'karar',\n",
       " 'verme',\n",
       " '',\n",
       " 'proble',\n",
       " 'çözme',\n",
       " 'sağlaya',\n",
       " '',\n",
       " 'bil',\n",
       " 'dalıdır',\n",
       " 'yapay',\n",
       " 'zeka',\n",
       " 'teknolojisi',\n",
       " 'doğal',\n",
       " 'dil',\n",
       " 'işleme',\n",
       " 'ses',\n",
       " 'tanıma',\n",
       " 'gör',\n",
       " 'işleme',\n",
       " '']"
      ]
     },
     "execution_count": 14,
     "metadata": {},
     "output_type": "execute_result"
    }
   ],
   "source": [
    "df.loc[0,'Text_2']"
   ]
  },
  {
   "cell_type": "code",
   "execution_count": 15,
   "id": "fefbf4e2-2fa9-4982-abcd-b814a7de769a",
   "metadata": {},
   "outputs": [],
   "source": [
    "# Boşlukların kaldırılması\n",
    "def remove_space(value):\n",
    "    return [item for item in value if item.strip()]\n",
    "\n",
    "df[\"Text_2\"] = df[\"Text_2\"].apply(remove_space)"
   ]
  },
  {
   "cell_type": "code",
   "execution_count": 16,
   "id": "135bf8cb-2b73-4e4d-ba17-e85c2da3e12c",
   "metadata": {},
   "outputs": [
    {
     "data": {
      "text/plain": [
       "['yapay',\n",
       " 'zeka',\n",
       " 'nedir',\n",
       " 'işe',\n",
       " 'yarar',\n",
       " 'yapay',\n",
       " 'zeka',\n",
       " 'yz',\n",
       " 'bilgisayar',\n",
       " 'diğer',\n",
       " 'cihazların',\n",
       " 'in',\n",
       " 'zeka',\n",
       " 'benzer',\n",
       " 'şekil',\n",
       " 'düşünmesini',\n",
       " 'öğrenmesini',\n",
       " 'karar',\n",
       " 'verme',\n",
       " 'proble',\n",
       " 'çözme',\n",
       " 'sağlaya',\n",
       " 'bil',\n",
       " 'dalıdır',\n",
       " 'yapay',\n",
       " 'zeka',\n",
       " 'teknolojisi',\n",
       " 'doğal',\n",
       " 'dil',\n",
       " 'işleme',\n",
       " 'ses',\n",
       " 'tanıma',\n",
       " 'gör',\n",
       " 'işleme']"
      ]
     },
     "execution_count": 16,
     "metadata": {},
     "output_type": "execute_result"
    }
   ],
   "source": [
    "df.loc[0,'Text_2']"
   ]
  },
  {
   "cell_type": "code",
   "execution_count": 17,
   "id": "1a3a0259-93d2-4f93-8433-83785f722e05",
   "metadata": {},
   "outputs": [],
   "source": [
    "import on_islem\n",
    "import pandas as pd"
   ]
  },
  {
   "cell_type": "code",
   "execution_count": 18,
   "id": "4df29ae6-c169-4e03-ae73-dc65ce5c116e",
   "metadata": {},
   "outputs": [
    {
     "data": {
      "text/html": [
       "<div>\n",
       "<style scoped>\n",
       "    .dataframe tbody tr th:only-of-type {\n",
       "        vertical-align: middle;\n",
       "    }\n",
       "\n",
       "    .dataframe tbody tr th {\n",
       "        vertical-align: top;\n",
       "    }\n",
       "\n",
       "    .dataframe thead th {\n",
       "        text-align: right;\n",
       "    }\n",
       "</style>\n",
       "<table border=\"1\" class=\"dataframe\">\n",
       "  <thead>\n",
       "    <tr style=\"text-align: right;\">\n",
       "      <th></th>\n",
       "      <th>Unnamed: 0</th>\n",
       "      <th>Text</th>\n",
       "    </tr>\n",
       "  </thead>\n",
       "  <tbody>\n",
       "    <tr>\n",
       "      <th>0</th>\n",
       "      <td>0</td>\n",
       "      <td>Yapay Zeka Nedir, Ne İşe Yarar?\\n\\nYapay zeka ...</td>\n",
       "    </tr>\n",
       "    <tr>\n",
       "      <th>1</th>\n",
       "      <td>1</td>\n",
       "      <td>🔎 Verilerinizi analiz edin: \\nChatGPT'yi kulla...</td>\n",
       "    </tr>\n",
       "    <tr>\n",
       "      <th>2</th>\n",
       "      <td>2</td>\n",
       "      <td>Öncelikle yapay zekanın ne olduğunu, #dijitala...</td>\n",
       "    </tr>\n",
       "    <tr>\n",
       "      <th>3</th>\n",
       "      <td>3</td>\n",
       "      <td>9. Baidu Research: Çin'in önde gelen arama mot...</td>\n",
       "    </tr>\n",
       "    <tr>\n",
       "      <th>4</th>\n",
       "      <td>4</td>\n",
       "      <td>4. Microsoft AI: Microsoft'un yapay zeka tekno...</td>\n",
       "    </tr>\n",
       "  </tbody>\n",
       "</table>\n",
       "</div>"
      ],
      "text/plain": [
       "   Unnamed: 0                                               Text\n",
       "0           0  Yapay Zeka Nedir, Ne İşe Yarar?\\n\\nYapay zeka ...\n",
       "1           1  🔎 Verilerinizi analiz edin: \\nChatGPT'yi kulla...\n",
       "2           2  Öncelikle yapay zekanın ne olduğunu, #dijitala...\n",
       "3           3  9. Baidu Research: Çin'in önde gelen arama mot...\n",
       "4           4  4. Microsoft AI: Microsoft'un yapay zeka tekno..."
      ]
     },
     "execution_count": 18,
     "metadata": {},
     "output_type": "execute_result"
    }
   ],
   "source": [
    "df =pd.read_csv('data/nlp.csv')\n",
    "df.head()"
   ]
  },
  {
   "cell_type": "code",
   "execution_count": 19,
   "id": "e077b09b-92c9-4943-8e5d-b7b84ce561b2",
   "metadata": {},
   "outputs": [
    {
     "data": {
      "text/html": [
       "<div>\n",
       "<style scoped>\n",
       "    .dataframe tbody tr th:only-of-type {\n",
       "        vertical-align: middle;\n",
       "    }\n",
       "\n",
       "    .dataframe tbody tr th {\n",
       "        vertical-align: top;\n",
       "    }\n",
       "\n",
       "    .dataframe thead th {\n",
       "        text-align: right;\n",
       "    }\n",
       "</style>\n",
       "<table border=\"1\" class=\"dataframe\">\n",
       "  <thead>\n",
       "    <tr style=\"text-align: right;\">\n",
       "      <th></th>\n",
       "      <th>Unnamed: 0</th>\n",
       "      <th>Text</th>\n",
       "      <th>Text_2</th>\n",
       "    </tr>\n",
       "  </thead>\n",
       "  <tbody>\n",
       "    <tr>\n",
       "      <th>0</th>\n",
       "      <td>0</td>\n",
       "      <td>Yapay Zeka Nedir, Ne İşe Yarar?\\n\\nYapay zeka ...</td>\n",
       "      <td>[yapay, zeka, nedir, işe, yarar, yapay, zeka, ...</td>\n",
       "    </tr>\n",
       "    <tr>\n",
       "      <th>1</th>\n",
       "      <td>1</td>\n",
       "      <td>🔎 Verilerinizi analiz edin: \\nChatGPT'yi kulla...</td>\n",
       "      <td>[veri, analiz, edin, chatgptyi, kullanarak, do...</td>\n",
       "    </tr>\n",
       "    <tr>\n",
       "      <th>2</th>\n",
       "      <td>2</td>\n",
       "      <td>Öncelikle yapay zekanın ne olduğunu, #dijitala...</td>\n",
       "      <td>[öncelik, yapay, zeka, olduğunu, iç, önemli, o...</td>\n",
       "    </tr>\n",
       "    <tr>\n",
       "      <th>3</th>\n",
       "      <td>3</td>\n",
       "      <td>9. Baidu Research: Çin'in önde gelen arama mot...</td>\n",
       "      <td>[baidu, research, çin, ön, gele, ara, motor, b...</td>\n",
       "    </tr>\n",
       "    <tr>\n",
       "      <th>4</th>\n",
       "      <td>4</td>\n",
       "      <td>4. Microsoft AI: Microsoft'un yapay zeka tekno...</td>\n",
       "      <td>[microsoft, ai, microsoft, yapay, zeka, teknol...</td>\n",
       "    </tr>\n",
       "  </tbody>\n",
       "</table>\n",
       "</div>"
      ],
      "text/plain": [
       "   Unnamed: 0                                               Text   \n",
       "0           0  Yapay Zeka Nedir, Ne İşe Yarar?\\n\\nYapay zeka ...  \\\n",
       "1           1  🔎 Verilerinizi analiz edin: \\nChatGPT'yi kulla...   \n",
       "2           2  Öncelikle yapay zekanın ne olduğunu, #dijitala...   \n",
       "3           3  9. Baidu Research: Çin'in önde gelen arama mot...   \n",
       "4           4  4. Microsoft AI: Microsoft'un yapay zeka tekno...   \n",
       "\n",
       "                                              Text_2  \n",
       "0  [yapay, zeka, nedir, işe, yarar, yapay, zeka, ...  \n",
       "1  [veri, analiz, edin, chatgptyi, kullanarak, do...  \n",
       "2  [öncelik, yapay, zeka, olduğunu, iç, önemli, o...  \n",
       "3  [baidu, research, çin, ön, gele, ara, motor, b...  \n",
       "4  [microsoft, ai, microsoft, yapay, zeka, teknol...  "
      ]
     },
     "execution_count": 19,
     "metadata": {},
     "output_type": "execute_result"
    }
   ],
   "source": [
    "df[\"Text_2\"] = df[\"Text\"].apply(on_islem.pre_processing)\n",
    "df[\"Text_2\"] = df[\"Text_2\"].apply(on_islem.remove_space)\n",
    "df.head()"
   ]
  },
  {
   "cell_type": "code",
   "execution_count": null,
   "id": "286dad16-7242-472b-a9b7-5d610ab3b9d5",
   "metadata": {},
   "outputs": [],
   "source": []
  }
 ],
 "metadata": {
  "kernelspec": {
   "display_name": "Python 3 (ipykernel)",
   "language": "python",
   "name": "python3"
  },
  "language_info": {
   "codemirror_mode": {
    "name": "ipython",
    "version": 3
   },
   "file_extension": ".py",
   "mimetype": "text/x-python",
   "name": "python",
   "nbconvert_exporter": "python",
   "pygments_lexer": "ipython3",
   "version": "3.10.10"
  }
 },
 "nbformat": 4,
 "nbformat_minor": 5
}
